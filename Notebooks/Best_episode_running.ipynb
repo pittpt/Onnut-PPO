{
 "cells": [
  {
   "cell_type": "code",
   "execution_count": 1,
   "metadata": {},
   "outputs": [],
   "source": [
    "import os\n",
    "import sys\n",
    "if 'SUMO_HOME' in os.environ:\n",
    "    tools = os.path.join(os.environ['SUMO_HOME'], 'tools')\n",
    "    sys.path.append(tools)\n",
    "else:\n",
    "    sys.exit(\"please declare environment variable 'SUMO_HOME'\")\n",
    "sys.path.append(os.path.join('c:', os.sep, 'whatever', 'path', 'to', 'sumo', 'tools'))"
   ]
  },
  {
   "cell_type": "code",
   "execution_count": 2,
   "metadata": {},
   "outputs": [],
   "source": [
    "import traci\n",
    "from sumolib import checkBinary\n",
    "import traci.constants as tc\n",
    "import numpy as np\n",
    "import datetime\n",
    "import matplotlib\n",
    "import matplotlib.pyplot as plt\n",
    "# import torch\n",
    "import copy\n",
    "import csv\n",
    "import pandas as pd"
   ]
  },
  {
   "cell_type": "code",
   "execution_count": 3,
   "metadata": {},
   "outputs": [],
   "source": [
    "# csv_output_path = 'C:\\\\Users\\\\Asus\\\\OneDrive - Chulalongkorn University\\\\Desktop\\\\Senior Project\\\\Experiments-with-DQN-Onnut-27042022\\\\Experiments-with-DQN-Onnut-21042022\\\\multi-agent-dqn-main\\\\output_500episodes_04052022\\\\outputs'\n",
    "# # folder_path = 'C:\\\\Users\\\\Asus\\\\OneDrive - Chulalongkorn University\\\\Desktop\\Senior Project\\\\Experiments-with-DQN-Onnut-27042022\\\\Experiments-with-DQN-Onnut-21042022\\\\multi-agent-dqn-main\\\\outputs_391episodes_300422'\n",
    "\n",
    "# complete_episode = 500\n",
    "\n",
    "# for i in range(complete_episode) :\n",
    "#     file_name = 'onnut-dqn_run{}.csv'.format(i)\n",
    "#     file_path = os.path.join(csv_output_path,file_name)\n",
    "#     if i == 0 :\n",
    "#         output_df = pd.read_csv(file_path)\n",
    "#         output_df['episode'] = i\n",
    "#     else :\n",
    "#         new_output_df = pd.read_csv(file_path)\n",
    "#         new_output_df['episode'] = i\n",
    "#         output_df = pd.concat([output_df,new_output_df])   \n",
    "\n",
    "# output_df['step_time'] = output_df['step_time'].astype(int)\n",
    "# output_df['episode_time'] = output_df['episode'].astype(str) +'_' + output_df['step_time'].astype(str)\n",
    "\n",
    "# output_df['time_for_plot'] = [i for i in range(complete_episode*961)]\n",
    "# output_df.reset_index(inplace=True)"
   ]
  },
  {
   "cell_type": "code",
   "execution_count": 4,
   "metadata": {},
   "outputs": [],
   "source": [
    "# onnut_reward_df = output_df.groupby('episode')[['reward_onnut','reward_virtual','total_travel_time_onnut','total_travel_time_virtual']].sum().reset_index()\n",
    "\n",
    "# max_onnut_reward_ep =  onnut_reward_df['reward_onnut'].idxmax()\n",
    "# max_virtual_reward_ep =  onnut_reward_df['reward_virtual'].idxmax()\n",
    "\n",
    "# min_onnut_travel_time_ep =  onnut_reward_df['total_travel_time_onnut'].idxmin()\n",
    "# min_virtual_travel_time_ep =  onnut_reward_df['total_travel_time_virtual'].idxmin()\n",
    "\n",
    "# print(max_onnut_reward_ep,max_virtual_reward_ep)\n",
    "# print(min_onnut_travel_time_ep,min_virtual_travel_time_ep)"
   ]
  },
  {
   "cell_type": "code",
   "execution_count": 5,
   "metadata": {},
   "outputs": [],
   "source": [
    "# max_onnut_reward_index = onnut_reward_df['reward_onnut'].sort_values(ascending=False).reset_index().iloc[0:30,0].to_list()\n",
    "# print(max_onnut_reward_index)"
   ]
  },
  {
   "cell_type": "code",
   "execution_count": 6,
   "metadata": {},
   "outputs": [],
   "source": [
    "# max_virtual_reward_index = onnut_reward_df['reward_virtual'].sort_values(ascending=False).reset_index().iloc[0:30,0].to_list()"
   ]
  },
  {
   "cell_type": "code",
   "execution_count": 7,
   "metadata": {},
   "outputs": [],
   "source": [
    "# def intersection(lst1, lst2):\n",
    "#     lst3 = [value for value in lst1 if value in lst2]\n",
    "#     return lst3\n",
    "\n",
    "# print(intersection(max_onnut_reward_index,max_virtual_reward_index))\n"
   ]
  },
  {
   "cell_type": "code",
   "execution_count": 8,
   "metadata": {},
   "outputs": [],
   "source": [
    "# onnut_reward_df[onnut_reward_df['episode']==435]"
   ]
  },
  {
   "cell_type": "markdown",
   "metadata": {},
   "source": [
    "SUMO run"
   ]
  },
  {
   "cell_type": "code",
   "execution_count": 9,
   "metadata": {},
   "outputs": [],
   "source": [
    "selected_episode_index = 435 \n",
    "csv_output_path = 'C:\\\\Users\\\\Asus\\\\OneDrive - Chulalongkorn University\\\\Desktop\\\\Senior Project\\\\Experiments-with-DQN-Onnut-27042022\\\\Experiments-with-DQN-Onnut-21042022\\\\multi-agent-dqn-main\\\\output_500episodes_04052022\\\\outputs'\n",
    "\n",
    "file_path = os.path.join(csv_output_path,'onnut-dqn_run{}.csv'.format(selected_episode_index))\n",
    "\n",
    "selected_episode_df = pd.read_csv(file_path)\n",
    "\n",
    "onnut_action = selected_episode_df['onnut_action'].to_list()\n",
    "virtual_action = selected_episode_df['virtual_action'].to_list()"
   ]
  },
  {
   "cell_type": "code",
   "execution_count": 10,
   "metadata": {},
   "outputs": [
    {
     "data": {
      "text/plain": [
       "(961, 8)"
      ]
     },
     "execution_count": 10,
     "metadata": {},
     "output_type": "execute_result"
    }
   ],
   "source": [
    "selected_episode_df.shape"
   ]
  },
  {
   "cell_type": "code",
   "execution_count": 11,
   "metadata": {},
   "outputs": [],
   "source": [
    "def start(random_seed):\n",
    "    # os.chdir('C:\\\\Users\\\\Asus\\\\OneDrive - Chulalongkorn University\\\\Desktop\\\\Senior Project\\\\Experiments-with-DQN-Onnut-27042022\\\\Experiments-with-DQN-Onnut-21042022\\\\multi-agent-dqn-main')\n",
    "    sumoBinary = checkBinary('sumo-gui')\n",
    "    # sumoBinary = checkBinary('sumo')\n",
    "    # traci.start([sumoBinary, \"-c\", \"onnut_ake.sumocfg\",'--start','true','--quit-on-end','true','--time-to-teleport','-1'])\n",
    "    traci.start([sumoBinary, \"-c\", \"onnut_ake.sumocfg\",'--start','true','--quit-on-end','true','--time-to-teleport','900',\n",
    "            \"--no-internal-links\",'true',\"--ignore-junction-blocker\",'-1','--seed', str(random_seed)])"
   ]
  },
  {
   "cell_type": "code",
   "execution_count": 12,
   "metadata": {},
   "outputs": [],
   "source": [
    "id = {'onnut_junction':'cluster_1088409501_272206263_5136790697_70702637',\n",
    "      'virtual_junction':'gneJ42'}\n",
    "junction_name = list(id.keys())"
   ]
  },
  {
   "cell_type": "code",
   "execution_count": 13,
   "metadata": {},
   "outputs": [],
   "source": [
    "def take_action(new_selected_traffic_signal_phases):\n",
    "#     ==\n",
    "# Function take_action takes inputs, namely, \n",
    "\n",
    "    #Onnut intersection\n",
    "    traci.trafficlight.setPhase(id[junction_name[0]], (new_selected_traffic_signal_phases[0]))\n",
    "\n",
    "    #Virtual intersection \n",
    "    traci.trafficlight.setPhase(id[junction_name[1]], (new_selected_traffic_signal_phases[2]))\n",
    "\n",
    "\n",
    "    for i in range(15): \n",
    "        traci.simulationStep()\n",
    "   \n",
    "    return None"
   ]
  },
  {
   "cell_type": "code",
   "execution_count": 14,
   "metadata": {},
   "outputs": [],
   "source": [
    "def episode0(onnut_action,virtual_action):\n",
    "\n",
    "    start(435)\n",
    "    traci.simulationStep()\n",
    "    selected_traffic_signal_phases = [1, None,1 ,None]\n",
    "\n",
    "    for seconds in range(960): #2880\n",
    "\n",
    "        selected_traffic_signal_phases[0] = onnut_action[seconds]\n",
    "        selected_traffic_signal_phases[2] = virtual_action[seconds]\n",
    "\n",
    "#         print( new_selected_traffic_signal_phases, new_greentime_duration)\n",
    "#         print(count)\n",
    "\n",
    "        take_action(selected_traffic_signal_phases)\n",
    "\n",
    "    traci.close()\n",
    "    return None"
   ]
  },
  {
   "cell_type": "code",
   "execution_count": 15,
   "metadata": {},
   "outputs": [],
   "source": [
    "episode0(onnut_action,virtual_action)"
   ]
  },
  {
   "cell_type": "code",
   "execution_count": 16,
   "metadata": {},
   "outputs": [
    {
     "ename": "FatalTraCIError",
     "evalue": "Not connected.",
     "output_type": "error",
     "traceback": [
      "\u001b[1;31m---------------------------------------------------------------------------\u001b[0m",
      "\u001b[1;31mFatalTraCIError\u001b[0m                           Traceback (most recent call last)",
      "\u001b[1;32mc:\\Users\\Asus\\OneDrive - Chulalongkorn University\\Desktop\\Senior Project\\Experiments-with-DQN-Onnut-27042022\\Experiments-with-DQN-Onnut-21042022\\multi-agent-dqn-main\\Best_episode_running.ipynb Cell 17'\u001b[0m in \u001b[0;36m<cell line: 1>\u001b[1;34m()\u001b[0m\n\u001b[1;32m----> <a href='vscode-notebook-cell:/c%3A/Users/Asus/OneDrive%20-%20Chulalongkorn%20University/Desktop/Senior%20Project/Experiments-with-DQN-Onnut-27042022/Experiments-with-DQN-Onnut-21042022/multi-agent-dqn-main/Best_episode_running.ipynb#ch0000016?line=0'>1</a>\u001b[0m traci\u001b[39m.\u001b[39;49mclose()\n",
      "File \u001b[1;32mC:\\Program Files (x86)\\Eclipse\\Sumo\\tools\\traci\\main.py:283\u001b[0m, in \u001b[0;36mclose\u001b[1;34m(wait)\u001b[0m\n\u001b[0;32m    <a href='file:///c%3A/Program%20Files%20%28x86%29/Eclipse/Sumo/tools/traci/main.py?line=278'>279</a>\u001b[0m \u001b[39m\"\"\"\u001b[39;00m\n\u001b[0;32m    <a href='file:///c%3A/Program%20Files%20%28x86%29/Eclipse/Sumo/tools/traci/main.py?line=279'>280</a>\u001b[0m \u001b[39mTells TraCI to close the connection.\u001b[39;00m\n\u001b[0;32m    <a href='file:///c%3A/Program%20Files%20%28x86%29/Eclipse/Sumo/tools/traci/main.py?line=280'>281</a>\u001b[0m \u001b[39m\"\"\"\u001b[39;00m\n\u001b[0;32m    <a href='file:///c%3A/Program%20Files%20%28x86%29/Eclipse/Sumo/tools/traci/main.py?line=281'>282</a>\u001b[0m \u001b[39mif\u001b[39;00m \u001b[39m\"\u001b[39m\u001b[39m\"\u001b[39m \u001b[39mnot\u001b[39;00m \u001b[39min\u001b[39;00m _connections:\n\u001b[1;32m--> <a href='file:///c%3A/Program%20Files%20%28x86%29/Eclipse/Sumo/tools/traci/main.py?line=282'>283</a>\u001b[0m     \u001b[39mraise\u001b[39;00m FatalTraCIError(\u001b[39m\"\u001b[39m\u001b[39mNot connected.\u001b[39m\u001b[39m\"\u001b[39m)\n\u001b[0;32m    <a href='file:///c%3A/Program%20Files%20%28x86%29/Eclipse/Sumo/tools/traci/main.py?line=283'>284</a>\u001b[0m _connections[\u001b[39m\"\u001b[39m\u001b[39m\"\u001b[39m]\u001b[39m.\u001b[39mclose(wait)\n\u001b[0;32m    <a href='file:///c%3A/Program%20Files%20%28x86%29/Eclipse/Sumo/tools/traci/main.py?line=284'>285</a>\u001b[0m _connections[\u001b[39m\"\u001b[39m\u001b[39m\"\u001b[39m]\u001b[39m.\u001b[39msimulation\u001b[39m.\u001b[39m_setConnection(\u001b[39mNone\u001b[39;00m)\n",
      "\u001b[1;31mFatalTraCIError\u001b[0m: Not connected."
     ]
    }
   ],
   "source": [
    "traci.close()"
   ]
  }
 ],
 "metadata": {
  "interpreter": {
   "hash": "4573d6145d2633e07644d8d56b5e8dbfa1a648d795d6709c290371a724896093"
  },
  "kernelspec": {
   "display_name": "Python 3.8.13 ('SeniorProject')",
   "language": "python",
   "name": "python3"
  },
  "language_info": {
   "codemirror_mode": {
    "name": "ipython",
    "version": 3
   },
   "file_extension": ".py",
   "mimetype": "text/x-python",
   "name": "python",
   "nbconvert_exporter": "python",
   "pygments_lexer": "ipython3",
   "version": "3.8.13"
  },
  "orig_nbformat": 4
 },
 "nbformat": 4,
 "nbformat_minor": 2
}
