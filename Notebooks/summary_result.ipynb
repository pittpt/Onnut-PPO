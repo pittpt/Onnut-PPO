{
 "cells": [
  {
   "cell_type": "code",
   "execution_count": 1,
   "metadata": {},
   "outputs": [],
   "source": [
    "import os\n",
    "import numpy as np\n",
    "import matplotlib.pyplot as plt\n",
    "import pandas as pd\n",
    "import seaborn as sns"
   ]
  },
  {
   "cell_type": "code",
   "execution_count": 2,
   "metadata": {},
   "outputs": [],
   "source": [
    "selected_episode_index = 435 \n",
    "csv_output_path = 'C:\\\\Users\\\\Asus\\\\OneDrive - Chulalongkorn University\\\\Desktop\\\\Senior Project\\\\Experiments-with-DQN-Onnut-27042022\\\\Experiments-with-DQN-Onnut-21042022\\\\multi-agent-dqn-main\\\\output_500episodes_04052022\\\\outputs'\n",
    "\n",
    "file_path = os.path.join(csv_output_path,'onnut-dqn_run{}.csv'.format(selected_episode_index))\n",
    "\n",
    "selected_episode_df = pd.read_csv(file_path)\n",
    "\n",
    "onnut_action = selected_episode_df['onnut_action'].to_list()\n",
    "virtual_action = selected_episode_df['virtual_action'].to_list()"
   ]
  },
  {
   "cell_type": "code",
   "execution_count": 3,
   "metadata": {},
   "outputs": [
    {
     "data": {
      "text/html": [
       "<div>\n",
       "<style scoped>\n",
       "    .dataframe tbody tr th:only-of-type {\n",
       "        vertical-align: middle;\n",
       "    }\n",
       "\n",
       "    .dataframe tbody tr th {\n",
       "        vertical-align: top;\n",
       "    }\n",
       "\n",
       "    .dataframe thead th {\n",
       "        text-align: right;\n",
       "    }\n",
       "</style>\n",
       "<table border=\"1\" class=\"dataframe\">\n",
       "  <thead>\n",
       "    <tr style=\"text-align: right;\">\n",
       "      <th></th>\n",
       "      <th>Unnamed: 0</th>\n",
       "      <th>action_onnut</th>\n",
       "      <th>action_virtual</th>\n",
       "      <th>reward_onnut</th>\n",
       "      <th>reward_virtual</th>\n",
       "      <th>travel_time_onnut</th>\n",
       "      <th>travel_time_virtual</th>\n",
       "      <th>teleport_number</th>\n",
       "    </tr>\n",
       "  </thead>\n",
       "  <tbody>\n",
       "    <tr>\n",
       "      <th>0</th>\n",
       "      <td>0</td>\n",
       "      <td>1</td>\n",
       "      <td>1</td>\n",
       "      <td>0</td>\n",
       "      <td>0</td>\n",
       "      <td>0.695770</td>\n",
       "      <td>0.000000</td>\n",
       "      <td>0</td>\n",
       "    </tr>\n",
       "    <tr>\n",
       "      <th>1</th>\n",
       "      <td>1</td>\n",
       "      <td>1</td>\n",
       "      <td>1</td>\n",
       "      <td>9</td>\n",
       "      <td>0</td>\n",
       "      <td>20.858666</td>\n",
       "      <td>0.000000</td>\n",
       "      <td>0</td>\n",
       "    </tr>\n",
       "    <tr>\n",
       "      <th>2</th>\n",
       "      <td>2</td>\n",
       "      <td>2</td>\n",
       "      <td>1</td>\n",
       "      <td>5</td>\n",
       "      <td>0</td>\n",
       "      <td>0.577264</td>\n",
       "      <td>0.179800</td>\n",
       "      <td>0</td>\n",
       "    </tr>\n",
       "    <tr>\n",
       "      <th>3</th>\n",
       "      <td>3</td>\n",
       "      <td>2</td>\n",
       "      <td>1</td>\n",
       "      <td>0</td>\n",
       "      <td>0</td>\n",
       "      <td>261.632304</td>\n",
       "      <td>489.390586</td>\n",
       "      <td>0</td>\n",
       "    </tr>\n",
       "    <tr>\n",
       "      <th>4</th>\n",
       "      <td>4</td>\n",
       "      <td>2</td>\n",
       "      <td>1</td>\n",
       "      <td>1</td>\n",
       "      <td>0</td>\n",
       "      <td>0.064867</td>\n",
       "      <td>0.354716</td>\n",
       "      <td>0</td>\n",
       "    </tr>\n",
       "    <tr>\n",
       "      <th>...</th>\n",
       "      <td>...</td>\n",
       "      <td>...</td>\n",
       "      <td>...</td>\n",
       "      <td>...</td>\n",
       "      <td>...</td>\n",
       "      <td>...</td>\n",
       "      <td>...</td>\n",
       "      <td>...</td>\n",
       "    </tr>\n",
       "    <tr>\n",
       "      <th>955</th>\n",
       "      <td>955</td>\n",
       "      <td>2</td>\n",
       "      <td>1</td>\n",
       "      <td>95</td>\n",
       "      <td>14</td>\n",
       "      <td>156.510407</td>\n",
       "      <td>301.262553</td>\n",
       "      <td>0</td>\n",
       "    </tr>\n",
       "    <tr>\n",
       "      <th>956</th>\n",
       "      <td>956</td>\n",
       "      <td>2</td>\n",
       "      <td>1</td>\n",
       "      <td>77</td>\n",
       "      <td>16</td>\n",
       "      <td>344.888106</td>\n",
       "      <td>8.996333</td>\n",
       "      <td>0</td>\n",
       "    </tr>\n",
       "    <tr>\n",
       "      <th>957</th>\n",
       "      <td>957</td>\n",
       "      <td>2</td>\n",
       "      <td>1</td>\n",
       "      <td>70</td>\n",
       "      <td>16</td>\n",
       "      <td>346.013191</td>\n",
       "      <td>21.662546</td>\n",
       "      <td>0</td>\n",
       "    </tr>\n",
       "    <tr>\n",
       "      <th>958</th>\n",
       "      <td>958</td>\n",
       "      <td>2</td>\n",
       "      <td>1</td>\n",
       "      <td>95</td>\n",
       "      <td>14</td>\n",
       "      <td>530.220912</td>\n",
       "      <td>16.926457</td>\n",
       "      <td>0</td>\n",
       "    </tr>\n",
       "    <tr>\n",
       "      <th>959</th>\n",
       "      <td>959</td>\n",
       "      <td>2</td>\n",
       "      <td>1</td>\n",
       "      <td>98</td>\n",
       "      <td>12</td>\n",
       "      <td>67.225540</td>\n",
       "      <td>83.699321</td>\n",
       "      <td>0</td>\n",
       "    </tr>\n",
       "  </tbody>\n",
       "</table>\n",
       "<p>960 rows × 8 columns</p>\n",
       "</div>"
      ],
      "text/plain": [
       "     Unnamed: 0  action_onnut  action_virtual  reward_onnut  reward_virtual  \\\n",
       "0             0             1               1             0               0   \n",
       "1             1             1               1             9               0   \n",
       "2             2             2               1             5               0   \n",
       "3             3             2               1             0               0   \n",
       "4             4             2               1             1               0   \n",
       "..          ...           ...             ...           ...             ...   \n",
       "955         955             2               1            95              14   \n",
       "956         956             2               1            77              16   \n",
       "957         957             2               1            70              16   \n",
       "958         958             2               1            95              14   \n",
       "959         959             2               1            98              12   \n",
       "\n",
       "     travel_time_onnut  travel_time_virtual  teleport_number  \n",
       "0             0.695770             0.000000                0  \n",
       "1            20.858666             0.000000                0  \n",
       "2             0.577264             0.179800                0  \n",
       "3           261.632304           489.390586                0  \n",
       "4             0.064867             0.354716                0  \n",
       "..                 ...                  ...              ...  \n",
       "955         156.510407           301.262553                0  \n",
       "956         344.888106             8.996333                0  \n",
       "957         346.013191            21.662546                0  \n",
       "958         530.220912            16.926457                0  \n",
       "959          67.225540            83.699321                0  \n",
       "\n",
       "[960 rows x 8 columns]"
      ]
     },
     "execution_count": 3,
     "metadata": {},
     "output_type": "execute_result"
    }
   ],
   "source": [
    "police_csv_output_path = 'C:\\\\Users\\\\Asus\\\\OneDrive - Chulalongkorn University\\Desktop\\\\Senior Project\\\\Experiments-with-DQN-Onnut-27042022\\\\Experiments-with-DQN-Onnut-21042022\\\\multi-agent-dqn-main\\\\tuned_police_499episodes\\\\tuned_police'\n",
    "\n",
    "police_file_path = os.path.join(police_csv_output_path,'tuned_police_output_run0.csv')\n",
    "\n",
    "police_df = pd.read_csv(police_file_path)\n",
    "police_df"
   ]
  },
  {
   "cell_type": "code",
   "execution_count": 4,
   "metadata": {},
   "outputs": [
    {
     "data": {
      "text/html": [
       "<div>\n",
       "<style scoped>\n",
       "    .dataframe tbody tr th:only-of-type {\n",
       "        vertical-align: middle;\n",
       "    }\n",
       "\n",
       "    .dataframe tbody tr th {\n",
       "        vertical-align: top;\n",
       "    }\n",
       "\n",
       "    .dataframe thead th {\n",
       "        text-align: right;\n",
       "    }\n",
       "</style>\n",
       "<table border=\"1\" class=\"dataframe\">\n",
       "  <thead>\n",
       "    <tr style=\"text-align: right;\">\n",
       "      <th></th>\n",
       "      <th></th>\n",
       "      <th>reward_onnut</th>\n",
       "      <th>reward_virtual</th>\n",
       "    </tr>\n",
       "    <tr>\n",
       "      <th>onnut_action</th>\n",
       "      <th>virtual_action</th>\n",
       "      <th></th>\n",
       "      <th></th>\n",
       "    </tr>\n",
       "  </thead>\n",
       "  <tbody>\n",
       "    <tr>\n",
       "      <th rowspan=\"3\" valign=\"top\">0</th>\n",
       "      <th>0</th>\n",
       "      <td>85.748252</td>\n",
       "      <td>23.216783</td>\n",
       "    </tr>\n",
       "    <tr>\n",
       "      <th>1</th>\n",
       "      <td>98.500000</td>\n",
       "      <td>26.333333</td>\n",
       "    </tr>\n",
       "    <tr>\n",
       "      <th>2</th>\n",
       "      <td>85.587719</td>\n",
       "      <td>23.526316</td>\n",
       "    </tr>\n",
       "    <tr>\n",
       "      <th rowspan=\"3\" valign=\"top\">1</th>\n",
       "      <th>0</th>\n",
       "      <td>97.738372</td>\n",
       "      <td>24.037791</td>\n",
       "    </tr>\n",
       "    <tr>\n",
       "      <th>1</th>\n",
       "      <td>96.647059</td>\n",
       "      <td>26.117647</td>\n",
       "    </tr>\n",
       "    <tr>\n",
       "      <th>2</th>\n",
       "      <td>93.762611</td>\n",
       "      <td>22.792285</td>\n",
       "    </tr>\n",
       "  </tbody>\n",
       "</table>\n",
       "</div>"
      ],
      "text/plain": [
       "                             reward_onnut  reward_virtual\n",
       "onnut_action virtual_action                              \n",
       "0            0                  85.748252       23.216783\n",
       "             1                  98.500000       26.333333\n",
       "             2                  85.587719       23.526316\n",
       "1            0                  97.738372       24.037791\n",
       "             1                  96.647059       26.117647\n",
       "             2                  93.762611       22.792285"
      ]
     },
     "execution_count": 4,
     "metadata": {},
     "output_type": "execute_result"
    }
   ],
   "source": [
    "df = selected_episode_df.copy()\n",
    "\n",
    "df.groupby(['onnut_action','virtual_action']).agg({'reward_onnut':'mean','reward_virtual':'mean'})"
   ]
  },
  {
   "cell_type": "code",
   "execution_count": 5,
   "metadata": {},
   "outputs": [
    {
     "data": {
      "text/html": [
       "<div>\n",
       "<style scoped>\n",
       "    .dataframe tbody tr th:only-of-type {\n",
       "        vertical-align: middle;\n",
       "    }\n",
       "\n",
       "    .dataframe tbody tr th {\n",
       "        vertical-align: top;\n",
       "    }\n",
       "\n",
       "    .dataframe thead th {\n",
       "        text-align: right;\n",
       "    }\n",
       "</style>\n",
       "<table border=\"1\" class=\"dataframe\">\n",
       "  <thead>\n",
       "    <tr style=\"text-align: right;\">\n",
       "      <th></th>\n",
       "      <th>onnut_action</th>\n",
       "      <th>virtual_action</th>\n",
       "      <th>reward_onnut</th>\n",
       "      <th>reward_virtual</th>\n",
       "      <th>total_travel_time_onnut</th>\n",
       "      <th>total_travel_time_virtual</th>\n",
       "    </tr>\n",
       "  </thead>\n",
       "  <tbody>\n",
       "    <tr>\n",
       "      <th>0</th>\n",
       "      <td>0</td>\n",
       "      <td>0</td>\n",
       "      <td>85.748252</td>\n",
       "      <td>23.216783</td>\n",
       "      <td>279.836390</td>\n",
       "      <td>326.470250</td>\n",
       "    </tr>\n",
       "    <tr>\n",
       "      <th>1</th>\n",
       "      <td>0</td>\n",
       "      <td>1</td>\n",
       "      <td>98.500000</td>\n",
       "      <td>26.333333</td>\n",
       "      <td>82.760489</td>\n",
       "      <td>31.505414</td>\n",
       "    </tr>\n",
       "    <tr>\n",
       "      <th>2</th>\n",
       "      <td>0</td>\n",
       "      <td>2</td>\n",
       "      <td>85.587719</td>\n",
       "      <td>23.526316</td>\n",
       "      <td>369.255681</td>\n",
       "      <td>136.432483</td>\n",
       "    </tr>\n",
       "    <tr>\n",
       "      <th>3</th>\n",
       "      <td>1</td>\n",
       "      <td>0</td>\n",
       "      <td>97.738372</td>\n",
       "      <td>24.037791</td>\n",
       "      <td>428.805678</td>\n",
       "      <td>292.065787</td>\n",
       "    </tr>\n",
       "    <tr>\n",
       "      <th>4</th>\n",
       "      <td>1</td>\n",
       "      <td>1</td>\n",
       "      <td>96.647059</td>\n",
       "      <td>26.117647</td>\n",
       "      <td>1552.345277</td>\n",
       "      <td>145.545155</td>\n",
       "    </tr>\n",
       "    <tr>\n",
       "      <th>5</th>\n",
       "      <td>1</td>\n",
       "      <td>2</td>\n",
       "      <td>93.762611</td>\n",
       "      <td>22.792285</td>\n",
       "      <td>590.835161</td>\n",
       "      <td>223.155465</td>\n",
       "    </tr>\n",
       "  </tbody>\n",
       "</table>\n",
       "</div>"
      ],
      "text/plain": [
       "   onnut_action  virtual_action  reward_onnut  reward_virtual  \\\n",
       "0             0               0     85.748252       23.216783   \n",
       "1             0               1     98.500000       26.333333   \n",
       "2             0               2     85.587719       23.526316   \n",
       "3             1               0     97.738372       24.037791   \n",
       "4             1               1     96.647059       26.117647   \n",
       "5             1               2     93.762611       22.792285   \n",
       "\n",
       "   total_travel_time_onnut  total_travel_time_virtual  \n",
       "0               279.836390                 326.470250  \n",
       "1                82.760489                  31.505414  \n",
       "2               369.255681                 136.432483  \n",
       "3               428.805678                 292.065787  \n",
       "4              1552.345277                 145.545155  \n",
       "5               590.835161                 223.155465  "
      ]
     },
     "execution_count": 5,
     "metadata": {},
     "output_type": "execute_result"
    }
   ],
   "source": [
    "df.groupby(['onnut_action','virtual_action'])[['reward_onnut','reward_virtual','total_travel_time_onnut','total_travel_time_virtual']].mean().reset_index()"
   ]
  },
  {
   "cell_type": "code",
   "execution_count": 6,
   "metadata": {},
   "outputs": [],
   "source": [
    "summary_value_df = df.groupby(['onnut_action','virtual_action'])[['reward_onnut','reward_virtual','total_travel_time_onnut','total_travel_time_virtual']].mean().reset_index()"
   ]
  },
  {
   "cell_type": "code",
   "execution_count": 7,
   "metadata": {},
   "outputs": [
    {
     "data": {
      "text/html": [
       "<div>\n",
       "<style scoped>\n",
       "    .dataframe tbody tr th:only-of-type {\n",
       "        vertical-align: middle;\n",
       "    }\n",
       "\n",
       "    .dataframe tbody tr th {\n",
       "        vertical-align: top;\n",
       "    }\n",
       "\n",
       "    .dataframe thead th {\n",
       "        text-align: right;\n",
       "    }\n",
       "</style>\n",
       "<table border=\"1\" class=\"dataframe\">\n",
       "  <thead>\n",
       "    <tr style=\"text-align: right;\">\n",
       "      <th></th>\n",
       "      <th>action_onnut</th>\n",
       "      <th>action_virtual</th>\n",
       "      <th>count</th>\n",
       "    </tr>\n",
       "  </thead>\n",
       "  <tbody>\n",
       "    <tr>\n",
       "      <th>0</th>\n",
       "      <td>1</td>\n",
       "      <td>1</td>\n",
       "      <td>302</td>\n",
       "    </tr>\n",
       "    <tr>\n",
       "      <th>1</th>\n",
       "      <td>1</td>\n",
       "      <td>3</td>\n",
       "      <td>114</td>\n",
       "    </tr>\n",
       "    <tr>\n",
       "      <th>2</th>\n",
       "      <td>2</td>\n",
       "      <td>1</td>\n",
       "      <td>544</td>\n",
       "    </tr>\n",
       "  </tbody>\n",
       "</table>\n",
       "</div>"
      ],
      "text/plain": [
       "   action_onnut  action_virtual  count\n",
       "0             1               1    302\n",
       "1             1               3    114\n",
       "2             2               1    544"
      ]
     },
     "execution_count": 7,
     "metadata": {},
     "output_type": "execute_result"
    }
   ],
   "source": [
    "police_onnut_phase2_df = police_df.groupby(['action_onnut','action_virtual'])['Unnamed: 0'].count().reset_index()\n",
    "# onnut_phase2_df = onnut_phase2_df[onnut_phase2_df['onnut_action']==1]\n",
    "\n",
    "police_onnut_phase2_df.rename({'Unnamed: 0':'count'},axis=1)\n"
   ]
  },
  {
   "cell_type": "code",
   "execution_count": 44,
   "metadata": {},
   "outputs": [
    {
     "data": {
      "text/html": [
       "<div>\n",
       "<style scoped>\n",
       "    .dataframe tbody tr th:only-of-type {\n",
       "        vertical-align: middle;\n",
       "    }\n",
       "\n",
       "    .dataframe tbody tr th {\n",
       "        vertical-align: top;\n",
       "    }\n",
       "\n",
       "    .dataframe thead th {\n",
       "        text-align: right;\n",
       "    }\n",
       "</style>\n",
       "<table border=\"1\" class=\"dataframe\">\n",
       "  <thead>\n",
       "    <tr style=\"text-align: right;\">\n",
       "      <th></th>\n",
       "      <th>onnut_action</th>\n",
       "      <th>virtual_action</th>\n",
       "      <th>step_time</th>\n",
       "    </tr>\n",
       "  </thead>\n",
       "  <tbody>\n",
       "    <tr>\n",
       "      <th>0</th>\n",
       "      <td>0</td>\n",
       "      <td>0</td>\n",
       "      <td>143</td>\n",
       "    </tr>\n",
       "    <tr>\n",
       "      <th>1</th>\n",
       "      <td>0</td>\n",
       "      <td>1</td>\n",
       "      <td>6</td>\n",
       "    </tr>\n",
       "    <tr>\n",
       "      <th>2</th>\n",
       "      <td>0</td>\n",
       "      <td>2</td>\n",
       "      <td>114</td>\n",
       "    </tr>\n",
       "    <tr>\n",
       "      <th>3</th>\n",
       "      <td>1</td>\n",
       "      <td>0</td>\n",
       "      <td>344</td>\n",
       "    </tr>\n",
       "    <tr>\n",
       "      <th>4</th>\n",
       "      <td>1</td>\n",
       "      <td>1</td>\n",
       "      <td>17</td>\n",
       "    </tr>\n",
       "    <tr>\n",
       "      <th>5</th>\n",
       "      <td>1</td>\n",
       "      <td>2</td>\n",
       "      <td>337</td>\n",
       "    </tr>\n",
       "  </tbody>\n",
       "</table>\n",
       "</div>"
      ],
      "text/plain": [
       "   onnut_action  virtual_action  step_time\n",
       "0             0               0        143\n",
       "1             0               1          6\n",
       "2             0               2        114\n",
       "3             1               0        344\n",
       "4             1               1         17\n",
       "5             1               2        337"
      ]
     },
     "execution_count": 44,
     "metadata": {},
     "output_type": "execute_result"
    }
   ],
   "source": [
    "onnut_phase_df = df.groupby(['onnut_action','virtual_action'])['step_time'].count().reset_index()\n",
    "# onnut_phase2_df = onnut_phase2_df[onnut_phase2_df['onnut_action']==1]\n",
    "\n",
    "onnut_phase_df.rename({'step_time':'count'})\n"
   ]
  },
  {
   "cell_type": "code",
   "execution_count": 45,
   "metadata": {},
   "outputs": [
    {
     "data": {
      "text/html": [
       "<div>\n",
       "<style scoped>\n",
       "    .dataframe tbody tr th:only-of-type {\n",
       "        vertical-align: middle;\n",
       "    }\n",
       "\n",
       "    .dataframe tbody tr th {\n",
       "        vertical-align: top;\n",
       "    }\n",
       "\n",
       "    .dataframe thead th {\n",
       "        text-align: right;\n",
       "    }\n",
       "</style>\n",
       "<table border=\"1\" class=\"dataframe\">\n",
       "  <thead>\n",
       "    <tr style=\"text-align: right;\">\n",
       "      <th></th>\n",
       "      <th>Virtual phase1</th>\n",
       "      <th>Virtual phase2</th>\n",
       "      <th>Virtual phase3</th>\n",
       "    </tr>\n",
       "  </thead>\n",
       "  <tbody>\n",
       "    <tr>\n",
       "      <th>Police Strategy</th>\n",
       "      <td>302</td>\n",
       "      <td>0</td>\n",
       "      <td>114</td>\n",
       "    </tr>\n",
       "    <tr>\n",
       "      <th>Reinforcement \\n Learning</th>\n",
       "      <td>143</td>\n",
       "      <td>6</td>\n",
       "      <td>114</td>\n",
       "    </tr>\n",
       "  </tbody>\n",
       "</table>\n",
       "</div>"
      ],
      "text/plain": [
       "                           Virtual phase1  Virtual phase2  Virtual phase3\n",
       "Police Strategy                       302               0             114\n",
       "Reinforcement \\n Learning             143               6             114"
      ]
     },
     "execution_count": 45,
     "metadata": {},
     "output_type": "execute_result"
    }
   ],
   "source": [
    "onnut_phase1_df = pd.DataFrame({'Virtual phase1':[302,143],'Virtual phase2':[0,6],'Virtual phase3':[114,114]},index=['Police Strategy','Reinforcement \\n Learning'])\n",
    "onnut_phase1_df"
   ]
  },
  {
   "cell_type": "code",
   "execution_count": 51,
   "metadata": {},
   "outputs": [
    {
     "data": {
      "text/plain": [
       "<AxesSubplot:xlabel='Virtual phase1,Virtual phase2,Virtual phase3'>"
      ]
     },
     "execution_count": 51,
     "metadata": {},
     "output_type": "execute_result"
    },
    {
     "data": {
      "image/png": "[encoded data removed]",
      "text/plain": [
       "<Figure size 432x288 with 1 Axes>"
      ]
     },
     "metadata": {
      "needs_background": "light"
     },
     "output_type": "display_data"
    }
   ],
   "source": [
    "# onnut_phase1_df.value_counts(normalize=True).plot.bar(stacked=True)"
   ]
  },
  {
   "cell_type": "code",
   "execution_count": 52,
   "metadata": {},
   "outputs": [
    {
     "data": {
      "image/png": "[encoded data removed]",
      "text/plain": [
       "<Figure size 432x288 with 1 Axes>"
      ]
     },
     "metadata": {
      "needs_background": "light"
     },
     "output_type": "display_data"
    }
   ],
   "source": [
    "ax = onnut_phase1_df.plot(kind='bar', stacked=True,rot=0)\n",
    "# for c in ax.containers:\n",
    "\n",
    "#     # Optional: if the segment is small or 0, customize the labels\n",
    "#     labels = [v.get_height() if v.get_height() > 0 else '' for v in c]\n",
    "    \n",
    "#     # remove the labels parameter if it's not needed for customized labels\n",
    "#     plt.bar_label(c, labels=labels, label_type='center')\n",
    "\n",
    "plt.xlabel('Strategy')\n",
    "plt.ylabel('Number of time steps \\n used in each phase')\n",
    "plt.legend(bbox_to_anchor=(1, 1))\n",
    " \n",
    "# title of plot\n",
    "plt.title('Onnut Phase 1')\n",
    "plt.tight_layout()\n",
    "# plt.savefig('onnut_junction_compare.png')"
   ]
  },
  {
   "cell_type": "code",
   "execution_count": 37,
   "metadata": {},
   "outputs": [
    {
     "data": {
      "text/html": [
       "<div>\n",
       "<style scoped>\n",
       "    .dataframe tbody tr th:only-of-type {\n",
       "        vertical-align: middle;\n",
       "    }\n",
       "\n",
       "    .dataframe tbody tr th {\n",
       "        vertical-align: top;\n",
       "    }\n",
       "\n",
       "    .dataframe thead th {\n",
       "        text-align: right;\n",
       "    }\n",
       "</style>\n",
       "<table border=\"1\" class=\"dataframe\">\n",
       "  <thead>\n",
       "    <tr style=\"text-align: right;\">\n",
       "      <th></th>\n",
       "      <th>Onnut phase1</th>\n",
       "      <th>Onnut phase2</th>\n",
       "    </tr>\n",
       "  </thead>\n",
       "  <tbody>\n",
       "    <tr>\n",
       "      <th>Police Strategy</th>\n",
       "      <td>416</td>\n",
       "      <td>544</td>\n",
       "    </tr>\n",
       "    <tr>\n",
       "      <th>Reinforcement \\n Learning</th>\n",
       "      <td>263</td>\n",
       "      <td>698</td>\n",
       "    </tr>\n",
       "  </tbody>\n",
       "</table>\n",
       "</div>"
      ],
      "text/plain": [
       "                           Onnut phase1  Onnut phase2\n",
       "Police Strategy                     416           544\n",
       "Reinforcement \\n Learning           263           698"
      ]
     },
     "execution_count": 37,
     "metadata": {},
     "output_type": "execute_result"
    }
   ],
   "source": [
    "onnut_action_df = pd.DataFrame({'Onnut phase1':[416,263],'Onnut phase2':[544,698]},index=['Police Strategy','Reinforcement \\n Learning'])\n",
    "onnut_action_df"
   ]
  },
  {
   "cell_type": "code",
   "execution_count": 38,
   "metadata": {},
   "outputs": [
    {
     "data": {
      "image/png": "[encoded data removed]",
      "text/plain": [
       "<Figure size 432x288 with 1 Axes>"
      ]
     },
     "metadata": {
      "needs_background": "light"
     },
     "output_type": "display_data"
    }
   ],
   "source": [
    "ax = onnut_action_df.plot(kind='bar', stacked=True,rot=0)\n",
    "# for c in ax.containers:\n",
    "\n",
    "#     # Optional: if the segment is small or 0, customize the labels\n",
    "#     labels = [v.get_height() if v.get_height() > 0 else '' for v in c]\n",
    "    \n",
    "#     # remove the labels parameter if it's not needed for customized labels\n",
    "#     plt.bar_label(c, labels=labels, label_type='center')\n",
    "\n",
    "plt.xlabel('Strategy')\n",
    "plt.ylabel('Number of time steps \\n used in each phase')\n",
    "plt.legend(bbox_to_anchor=(1, 1))\n",
    " \n",
    "# title of plot\n",
    "plt.title('Onnut junction phasing')\n",
    "plt.tight_layout()\n",
    "plt.savefig('onnut_junction_compare.png')"
   ]
  },
  {
   "cell_type": "code",
   "execution_count": 39,
   "metadata": {},
   "outputs": [
    {
     "data": {
      "text/html": [
       "<div>\n",
       "<style scoped>\n",
       "    .dataframe tbody tr th:only-of-type {\n",
       "        vertical-align: middle;\n",
       "    }\n",
       "\n",
       "    .dataframe tbody tr th {\n",
       "        vertical-align: top;\n",
       "    }\n",
       "\n",
       "    .dataframe thead th {\n",
       "        text-align: right;\n",
       "    }\n",
       "</style>\n",
       "<table border=\"1\" class=\"dataframe\">\n",
       "  <thead>\n",
       "    <tr style=\"text-align: right;\">\n",
       "      <th></th>\n",
       "      <th>Virtual phase1</th>\n",
       "      <th>Virtual phase2</th>\n",
       "      <th>Virtual phase3</th>\n",
       "    </tr>\n",
       "  </thead>\n",
       "  <tbody>\n",
       "    <tr>\n",
       "      <th>Police Strategy</th>\n",
       "      <td>842</td>\n",
       "      <td>0</td>\n",
       "      <td>114</td>\n",
       "    </tr>\n",
       "    <tr>\n",
       "      <th>Reinforcement \\n Learning</th>\n",
       "      <td>487</td>\n",
       "      <td>23</td>\n",
       "      <td>451</td>\n",
       "    </tr>\n",
       "  </tbody>\n",
       "</table>\n",
       "</div>"
      ],
      "text/plain": [
       "                           Virtual phase1  Virtual phase2  Virtual phase3\n",
       "Police Strategy                       842               0             114\n",
       "Reinforcement \\n Learning             487              23             451"
      ]
     },
     "execution_count": 39,
     "metadata": {},
     "output_type": "execute_result"
    }
   ],
   "source": [
    "virtual_action_df = pd.DataFrame({'Virtual phase1':[842,487],'Virtual phase2':[0,23],'Virtual phase3':[114,451]},index=['Police Strategy','Reinforcement \\n Learning'])\n",
    "virtual_action_df"
   ]
  },
  {
   "cell_type": "code",
   "execution_count": 40,
   "metadata": {},
   "outputs": [
    {
     "data": {
      "image/png": "[encoded data removed]",
      "text/plain": [
       "<Figure size 432x288 with 1 Axes>"
      ]
     },
     "metadata": {
      "needs_background": "light"
     },
     "output_type": "display_data"
    }
   ],
   "source": [
    "ax = virtual_action_df.plot(kind='bar', stacked=True,rot=0, color=['skyblue', 'red', 'green'])\n",
    "# for c in ax.containers:\n",
    "\n",
    "#     # Optional: if the segment is small or 0, customize the labels\n",
    "#     labels = [v.get_height() if v.get_height() > 0 else '' for v in c]\n",
    "    \n",
    "#     # remove the labels parameter if it's not needed for customized labels\n",
    "#     plt.bar_label(c, labels=labels, label_type='center')\n",
    "\n",
    "plt.xlabel('Strategy')\n",
    "plt.ylabel('Number of time steps \\n used in each phase')\n",
    "plt.legend(bbox_to_anchor=(1, 1))\n",
    " \n",
    "# title of plot\n",
    "plt.title('Virtual junction phasing')\n",
    "plt.tight_layout()\n",
    "plt.savefig('virtual_junction_compare.png')"
   ]
  },
  {
   "cell_type": "markdown",
   "metadata": {},
   "source": []
  },
  {
   "cell_type": "markdown",
   "metadata": {},
   "source": []
  },
  {
   "cell_type": "code",
   "execution_count": 13,
   "metadata": {},
   "outputs": [
    {
     "name": "stderr",
     "output_type": "stream",
     "text": [
      "C:\\Users\\Asus\\AppData\\Local\\Temp\\ipykernel_9876\\848509539.py:5: SettingWithCopyWarning: \n",
      "A value is trying to be set on a copy of a slice from a DataFrame.\n",
      "Try using .loc[row_indexer,col_indexer] = value instead\n",
      "\n",
      "See the caveats in the documentation: https://pandas.pydata.org/pandas-docs/stable/user_guide/indexing.html#returning-a-view-versus-a-copy\n",
      "  df_only_onnut_phase2['virtual_action_fix'] = df_only_onnut_phase2['virtual_action'] + 1\n"
     ]
    },
    {
     "data": {
      "text/plain": [
       "<AxesSubplot:xlabel='virtual_action_fix', ylabel='count'>"
      ]
     },
     "execution_count": 13,
     "metadata": {},
     "output_type": "execute_result"
    },
    {
     "data": {
      "image/png": "[encoded data removed]",
      "text/plain": [
       "<Figure size 432x288 with 1 Axes>"
      ]
     },
     "metadata": {
      "needs_background": "light"
     },
     "output_type": "display_data"
    }
   ],
   "source": [
    "#observe when onnut junction (RL) open phase 2 \n",
    "#count plot \n",
    "\n",
    "df_only_onnut_phase2 = df[df['onnut_action']== 0]\n",
    "df_only_onnut_phase2['virtual_action_fix'] = df_only_onnut_phase2['virtual_action'] + 1\n",
    "sns.countplot(data=df_only_onnut_phase2,x='virtual_action_fix')"
   ]
  },
  {
   "cell_type": "code",
   "execution_count": 14,
   "metadata": {},
   "outputs": [
    {
     "name": "stderr",
     "output_type": "stream",
     "text": [
      "C:\\Users\\Asus\\AppData\\Local\\Temp\\ipykernel_9876\\3634734577.py:4: SettingWithCopyWarning: \n",
      "A value is trying to be set on a copy of a slice from a DataFrame.\n",
      "Try using .loc[row_indexer,col_indexer] = value instead\n",
      "\n",
      "See the caveats in the documentation: https://pandas.pydata.org/pandas-docs/stable/user_guide/indexing.html#returning-a-view-versus-a-copy\n",
      "  summary_value_onnut_phase2_df['virtual_action_fix'] = summary_value_onnut_phase2_df['virtual_action'] + 1\n"
     ]
    },
    {
     "data": {
      "text/plain": [
       "<AxesSubplot:xlabel='virtual_action_fix', ylabel='total_travel_time_onnut'>"
      ]
     },
     "execution_count": 14,
     "metadata": {},
     "output_type": "execute_result"
    },
    {
     "data": {
      "image/png": "[encoded data removed]",
      "text/plain": [
       "<Figure size 432x288 with 1 Axes>"
      ]
     },
     "metadata": {
      "needs_background": "light"
     },
     "output_type": "display_data"
    }
   ],
   "source": [
    "#calculate value when onnut phase 2\n",
    "\n",
    "summary_value_onnut_phase2_df = summary_value_df[summary_value_df['onnut_action']==1]\n",
    "summary_value_onnut_phase2_df['virtual_action_fix'] = summary_value_onnut_phase2_df['virtual_action'] + 1\n",
    "\n",
    "df_clear  = summary_value_onnut_phase2_df[summary_value_onnut_phase2_df['virtual_action_fix']!=2]\n",
    "\n",
    "# sns.barplot(data=summary_value_onnut_phase2_df,x='virtual_action_fix',y='total_travel_time_onnut')\n",
    "sns.barplot(data=df_clear,x='virtual_action_fix',y='total_travel_time_onnut') "
   ]
  },
  {
   "cell_type": "code",
   "execution_count": 15,
   "metadata": {},
   "outputs": [
    {
     "name": "stderr",
     "output_type": "stream",
     "text": [
      "C:\\Users\\Asus\\AppData\\Local\\Temp\\ipykernel_9876\\2018593064.py:4: SettingWithCopyWarning: \n",
      "A value is trying to be set on a copy of a slice from a DataFrame.\n",
      "Try using .loc[row_indexer,col_indexer] = value instead\n",
      "\n",
      "See the caveats in the documentation: https://pandas.pydata.org/pandas-docs/stable/user_guide/indexing.html#returning-a-view-versus-a-copy\n",
      "  summary_value_onnut_phase2_df['virtual_action_fix'] = summary_value_onnut_phase2_df['virtual_action'] + 1\n"
     ]
    },
    {
     "data": {
      "text/plain": [
       "<AxesSubplot:xlabel='virtual_action_fix', ylabel='total_travel_time_virtual'>"
      ]
     },
     "execution_count": 15,
     "metadata": {},
     "output_type": "execute_result"
    },
    {
     "data": {
      "image/png": "[encoded data removed]",
      "text/plain": [
       "<Figure size 432x288 with 1 Axes>"
      ]
     },
     "metadata": {
      "needs_background": "light"
     },
     "output_type": "display_data"
    }
   ],
   "source": [
    "#calculate value when onnut phase 2\n",
    "\n",
    "summary_value_onnut_phase2_df = summary_value_df[summary_value_df['onnut_action']==1]\n",
    "summary_value_onnut_phase2_df['virtual_action_fix'] = summary_value_onnut_phase2_df['virtual_action'] + 1\n",
    "\n",
    "sns.barplot(data=summary_value_onnut_phase2_df,x='virtual_action_fix',y='total_travel_time_virtual') # <- travel"
   ]
  }
 ],
 "metadata": {
  "interpreter": {
   "hash": "4573d6145d2633e07644d8d56b5e8dbfa1a648d795d6709c290371a724896093"
  },
  "kernelspec": {
   "display_name": "Python 3.8.13 ('SeniorProject')",
   "language": "python",
   "name": "python3"
  },
  "language_info": {
   "codemirror_mode": {
    "name": "ipython",
    "version": 3
   },
   "file_extension": ".py",
   "mimetype": "text/x-python",
   "name": "python",
   "nbconvert_exporter": "python",
   "pygments_lexer": "ipython3",
   "version": "3.8.13"
  },
  "orig_nbformat": 4
 },
 "nbformat": 4,
 "nbformat_minor": 2
}
