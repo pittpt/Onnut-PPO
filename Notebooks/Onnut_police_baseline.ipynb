{
 "cells": [
  {
   "cell_type": "markdown",
   "metadata": {},
   "source": [
    "# Baseline model from police strategy"
   ]
  },
  {
   "cell_type": "markdown",
   "metadata": {},
   "source": [
    "#### Setting environment "
   ]
  },
  {
   "cell_type": "code",
   "execution_count": 1,
   "metadata": {},
   "outputs": [],
   "source": [
    "import os, sys\n",
    "if 'SUMO_HOME' in os.environ:\n",
    "    tools = os.path.join(os.environ['SUMO_HOME'], 'tools')\n",
    "    sys.path.append(tools)\n",
    "else:\n",
    "    sys.exit(\"please declare environment variable 'SUMO_HOME'\")\n",
    "sys.path.append(os.path.join('c:', os.sep, 'whatever', 'path', 'to', 'sumo', 'tools'))"
   ]
  },
  {
   "cell_type": "code",
   "execution_count": 2,
   "metadata": {},
   "outputs": [],
   "source": [
    "import traci\n",
    "from sumolib import checkBinary\n",
    "import traci.constants as tc\n",
    "import numpy as np\n",
    "import datetime\n",
    "import matplotlib\n",
    "import matplotlib.pyplot as plt\n",
    "# import torch\n",
    "import copy\n",
    "import csv\n",
    "import pandas as pd"
   ]
  },
  {
   "cell_type": "code",
   "execution_count": 3,
   "metadata": {},
   "outputs": [],
   "source": [
    "# reward_memory = []\n",
    "# def plot_durations():\n",
    "#     print('show')\n",
    "#     plt.figure(2)\n",
    "#     plt.clf()\n",
    "#     durations_t = torch.tensor(reward_memory, dtype=torch.float)\n",
    "#     plt.title('Training...')\n",
    "#     plt.xlabel('Step')\n",
    "#     plt.ylabel('Reward')\n",
    "#     plt.plot(durations_t.numpy())\n",
    "#     # Take 100 episode averages and plot them too\n",
    "#     if len(durations_t) >= 100:\n",
    "#         means = durations_t.unfold(0, 100, 1).mean(1).view(-1)\n",
    "#         means = torch.cat((torch.zeros(99), means))\n",
    "#         plt.plot(means.numpy())\n",
    "\n",
    "#     plt.pause(0.001)  # pause a bit so that plots are updated"
   ]
  },
  {
   "cell_type": "markdown",
   "metadata": {},
   "source": [
    "Threshold setting"
   ]
  },
  {
   "cell_type": "code",
   "execution_count": 4,
   "metadata": {},
   "outputs": [],
   "source": [
    "# decision_threshold\n",
    "\n",
    "threshold = {'ONNUT_FP1_END_FLOW' : 10,\n",
    "'ONNUT_FP1_END_UNJAM' : 105, #30% of sum lenghth of edge infront e2detector ID=15\n",
    "'ONNUT_FP2_END_FLOW' :  0.3, #20\n",
    "\n",
    "#======= fixed ==========#\n",
    "'VIRTUAL_FP1_END_UNJAM_17' : 80, #60\n",
    "'VIRTUAL_FP1_END_UNJAM_13_14' : 30,\n",
    "'VIRTUAL_FP1_END_UNJAM_BANGNA' : 20\n",
    "            }\n",
    "\n",
    "\n",
    "duration={ \n",
    "'ONNUT_FP1_END_MAXGREEN' : 90,\n",
    "'ONNUT_FP2_END_MAXGREEN' : 90,\n",
    "'ONNUT_FP1_END_MINGREEN': 15,\n",
    "'ONNUT_FP2_END_MINGREEN':15,\n",
    "'VIRTUAL_FP1_END_MAXGREEN': 90,\n",
    "'VIRTUAL_FP1_END_MINGREEN' : 15\n",
    "}"
   ]
  },
  {
   "cell_type": "code",
   "execution_count": 5,
   "metadata": {},
   "outputs": [],
   "source": [
    "# collect phase changing reason\n",
    "\n",
    "count = {'ONNUT_FP1_END_FLOW' : 0,\n",
    "'ONNUT_FP2_END_FLOW' :  0,\n",
    "'ONNUT_FP2_END_FLOW' : 0,\n",
    "'ONNUT_FP1_END_UNJAM' : 0,\n",
    "'ONNUT_FP1_END_MAXGREEN' : 0,\n",
    "'ONNUT_FP2_END_MAXGREEN' : 0,\n",
    "'ONNUT_FP1_END_MINGREEN': 0,\n",
    "'ONNUT_FP2_END_MINGREEN':0,\n",
    "'VIRTUAL_ONNUT_ASSOCIATE':0,\n",
    "'VIRTUAL_FP1_END_MINGREEN':0,\n",
    "'VIRTUAL_FP1_END_MAXGREEN':0,\n",
    "'VIRTUAL_FP1_END_UNJAM_17':0,\n",
    "'VIRTUAL_FP1_END_UNJAM_13_14' : 0,\n",
    "'VIRTUAL_FP1_END_UNJAM_BANGNA' : 0\n",
    "        }"
   ]
  },
  {
   "cell_type": "markdown",
   "metadata": {},
   "source": [
    "#### import data by csv files"
   ]
  },
  {
   "cell_type": "code",
   "execution_count": 6,
   "metadata": {},
   "outputs": [],
   "source": [
    "# os.chdir('C:\\\\Users\\\\Asus\\\\OneDrive - Chulalongkorn University\\\\Desktop\\\\Senior Project\\\\Experiments-with-DQN-Onnut-27042022\\\\Experiments-with-DQN-Onnut-21042022\\\\multi-agent-dqn-main')\n",
    "# namedetector_df = pd.read_csv('name_detector.csv')\n",
    "# namedetector_df.dropna(inplace=True)\n",
    "\n",
    "# # #namedetector_df"
   ]
  },
  {
   "cell_type": "markdown",
   "metadata": {},
   "source": [
    "#### Start SUMO"
   ]
  },
  {
   "cell_type": "code",
   "execution_count": 7,
   "metadata": {},
   "outputs": [],
   "source": [
    "def start(random_seed):\n",
    "    # os.chdir('C:\\\\Users\\\\Asus\\\\OneDrive - Chulalongkorn University\\\\Desktop\\\\Senior Project\\\\Experiments-with-DQN-Onnut-27042022\\\\Experiments-with-DQN-Onnut-21042022\\\\multi-agent-dqn-main')\n",
    "    sumoBinary = checkBinary('sumo-gui')\n",
    "    # sumoBinary = checkBinary('sumo')\n",
    "    # traci.start([sumoBinary, \"-c\", \"onnut_ake.sumocfg\",'--start','true','--quit-on-end','true','--time-to-teleport','-1'])\n",
    "    traci.start([sumoBinary, \"-c\", \"onnut_ake.sumocfg\",'--start','true','--quit-on-end','true','--time-to-teleport','900',\n",
    "            \"--no-internal-links\",'true',\"--ignore-junction-blocker\",'-1','--seed', str(random_seed)])"
   ]
  },
  {
   "cell_type": "markdown",
   "metadata": {},
   "source": [
    "#### Define environment"
   ]
  },
  {
   "cell_type": "code",
   "execution_count": 8,
   "metadata": {},
   "outputs": [],
   "source": [
    "def get_occupancy_average_percent(detector_id): \n",
    "    #get occupancy average for all detector in detector_id and scale by (Vehicle Length + MinimumGap)/MinimumGap \n",
    "    #Vehicle Length = 4.62 MinimumGap = 2.37\n",
    "    occupancy = (sum([traci.lanearea.getLastStepOccupancy(e) for e in detector_id])/len(detector_id))*((4.62+2.37)/4.62)\n",
    "    return occupancy"
   ]
  },
  {
   "cell_type": "code",
   "execution_count": 9,
   "metadata": {},
   "outputs": [],
   "source": [
    "def get_flow_sum(detector_id):\n",
    "#     Speed (metres per sec) = flow (vehicle per sec) / density (veh per metre), Ajarn chaodit\n",
    "#         flow= int(densityPerLane) * float(meanSpeed)#flow per lane\n",
    "#     print('LastStepVehicleNumber', sum([traci.lanearea.getLastStepVehicleNumber(e) for e in detector_id]))\n",
    "#     print('length', sum([traci.lanearea.getLength(i) for i in detector_id]))\n",
    "#     density = sum([traci.lanearea.getLastStepVehicleNumber(e) for e in detector_id])/\\\n",
    "#     sum([traci.lanearea.getLength(i) for i in detector_id])\n",
    "#     print('density', density)\n",
    "    \n",
    "    flow = sum(([traci.lanearea.getLastStepVehicleNumber(e)*traci.lanearea.getLastStepMeanSpeed(e)/traci.lanearea.getLength(e) for e in detector_id if\n",
    "              traci.lanearea.getLastStepMeanSpeed(e) >= 0]))\n",
    "            \n",
    "    return flow"
   ]
  },
  {
   "cell_type": "code",
   "execution_count": 10,
   "metadata": {},
   "outputs": [],
   "source": [
    "def get_unjamlength_meters(detector_id): \n",
    "    detector_length = sum(traci.lanearea.getLength(d) for d in detector_id)\n",
    "    unjamlength = detector_length - (sum([traci.lanearea.getJamLengthMeters(e) for e in detector_id])) #/detector_length\n",
    "    return unjamlength"
   ]
  },
  {
   "cell_type": "markdown",
   "metadata": {},
   "source": [
    "#### Define Reward"
   ]
  },
  {
   "cell_type": "code",
   "execution_count": 11,
   "metadata": {},
   "outputs": [],
   "source": [
    "def get_throughput_onnut():\n",
    "    #loopID = ['L751454884#3_0','L751454884#3_1','L751454884#3_2','L156591171#2_0','L156591171#2_1','L156591171#2_2','L824116560#3_0','L824116560#3_1','L824116560#3_2','L824116560#3_3','L-93727606#1_0']\n",
    "    loopID = ['Induction_Loop_1','Induction_Loop_2','Induction_Loop_3','Induction_Loop_4','Induction_Loop_5','Induction_Loop_6','Induction_Loop_7','Induction_Loop_8','Induction_Loop_9','Induction_Loop_10']\n",
    "    # throughput_onnut = sum([traci.inductionloop.getLastStepVehicleNumber(i) for i in loopID if traci.inductionloop.getLastStepMeanSpeed(i) > 0])  #if traci.inductionloop.getLastStepMeanSpeed(i) > 0\n",
    "    throughput_onnut = 0\n",
    "    for id in loopID:\n",
    "\n",
    "        laneID = traci.inductionloop.getLaneID(id)\n",
    "        edgeID = traci.lane.getEdgeID(laneID)\n",
    "        speed = traci.edge.getLastStepMeanSpeed(edgeID)\n",
    "        if speed > 0:\n",
    "            throughput_onnut += traci.inductionloop.getLastStepVehicleNumber(id)\n",
    "\n",
    "    return throughput_onnut"
   ]
  },
  {
   "cell_type": "code",
   "execution_count": 12,
   "metadata": {},
   "outputs": [],
   "source": [
    "def get_throughput_virtual():\n",
    "    loopID = [\"Virtual_loop_1\",\"Virtual_loop_2\",\"Virtual_loop_3\",\"Virtual_loop_4\",\"Virtual_loop_5\"]\n",
    "    throughput_virtual = 0\n",
    "    for id in loopID:\n",
    "\n",
    "        laneID = traci.inductionloop.getLaneID(id)\n",
    "        edgeID = traci.lane.getEdgeID(laneID)\n",
    "        speed = traci.edge.getLastStepMeanSpeed(edgeID)\n",
    "        if speed > 0:\n",
    "            throughput_virtual += traci.inductionloop.getLastStepVehicleNumber(id)\n",
    "\n",
    "    return throughput_virtual"
   ]
  },
  {
   "cell_type": "code",
   "execution_count": 13,
   "metadata": {},
   "outputs": [],
   "source": [
    "def get_travel_time_onnut() :\n",
    "    edgeID_for_MOE = [  #NB\n",
    "                '824116560#0','824116560#1','824116560#2','824116560#3','824816455','220429932#0','824116561-AddedOffRampEdge','113135465#5',\n",
    "                '750035412#1-AddedOffRampEdge','824816456','113135465#0','113135465#2',\n",
    "                #SB\n",
    "                '751454884#3','751454884#2','751454884#0',\n",
    "                '751454885#0','751454885#2','751454885#3','751454885#5',\n",
    "                #WB\n",
    "                '824456410#0','824456410#2','824456410#2.41',\n",
    "                '156591171#2','-824456410#2','156591171#0'\n",
    "                                ]\n",
    "\n",
    "    if ((sum(traci.edge.getLastStepVehicleNumber(edgeID) for edgeID in edgeID_for_MOE)) != 0) : \n",
    "        travel_time_onnut = sum(traci.edge.getTraveltime(edgeID)*traci.edge.getLastStepVehicleNumber(edgeID) for edgeID in edgeID_for_MOE) \\\n",
    "            /(sum(traci.edge.getLastStepVehicleNumber(edgeID) for edgeID in edgeID_for_MOE) *len(edgeID_for_MOE))\n",
    "    else : \n",
    "        travel_time_onnut = 0\n",
    "\n",
    "    return travel_time_onnut "
   ]
  },
  {
   "cell_type": "code",
   "execution_count": 14,
   "metadata": {},
   "outputs": [],
   "source": [
    "def get_travel_time_virtual() :\n",
    "    edgeID_for_MOE = [  #SB\n",
    "                '824456410#2','824456410#2.41','824456409#0','-gneE25',\n",
    "                '-824456410#2','156591171#0','-824456409#0','-gneE24',\n",
    "                #WB\n",
    "                'gneE34','824456409#5','824456409#6','113135397#1','113135397#3',\n",
    "                'gneE33','-824456409#5','-113135397#0','-113135397#2','-113135397#4',\n",
    "                #BigC\n",
    "                'gneE32','gneE29'\n",
    "                                ]\n",
    "                                \n",
    "    if ((sum(traci.edge.getLastStepVehicleNumber(edgeID) for edgeID in edgeID_for_MOE)) != 0) : \n",
    "        travel_time_virtual = sum(traci.edge.getTraveltime(edgeID)*traci.edge.getLastStepVehicleNumber(edgeID) for edgeID in edgeID_for_MOE) \\\n",
    "            /(sum(traci.edge.getLastStepVehicleNumber(edgeID) for edgeID in edgeID_for_MOE) *len(edgeID_for_MOE))\n",
    "    else : \n",
    "        travel_time_virtual = 0\n",
    "\n",
    "    return travel_time_virtual"
   ]
  },
  {
   "cell_type": "code",
   "execution_count": 15,
   "metadata": {},
   "outputs": [],
   "source": [
    "def get_waiting_time_onnut() :\n",
    "    edgeID = [  #NB\n",
    "                '824116560#0','824116560#1','824116560#2','824116560#3','824816455','220429932#0','824116561-AddedOffRampEdge','113135465#5',\n",
    "                '750035412#1-AddedOffRampEdge','824816456','113135465#0','113135465#2',\n",
    "                #SB\n",
    "                '751454884#3','751454884#2','751454884#0',\n",
    "                '751454885#0','751454885#2','751454885#3','751454885#5',\n",
    "                #WB\n",
    "                '824456410#0','824456410#2','824456410#2.41',\n",
    "                '156591171#2','-824456410#2','156591171#0'\n",
    "                                ]\n",
    "    waiting_time_onnut = sum([traci.edge.getWaitingTime(i) for i in edgeID])/len(edgeID)\n",
    "    return waiting_time_onnut "
   ]
  },
  {
   "cell_type": "code",
   "execution_count": 16,
   "metadata": {},
   "outputs": [],
   "source": [
    "def get_waiting_time_virtual() :\n",
    "    edgeID = [  #SB\n",
    "                '824456410#2','824456410#2.41','824456409#0','-gneE25',\n",
    "                '-824456410#2','156591171#0','-824456409#0','-gneE24',\n",
    "                #WB\n",
    "                'gneE34','824456409#5','824456409#6','113135397#1','113135397#3',\n",
    "                'gneE33','-824456409#5','-113135397#0','-113135397#2','-113135397#4',\n",
    "                #BigC\n",
    "                'gneE32','gneE29'\n",
    "                                ]\n",
    "    waiting_time_virtual = sum([traci.edge.getWaitingTime(i) for i in edgeID])/len(edgeID)\n",
    "    return waiting_time_virtual"
   ]
  },
  {
   "cell_type": "markdown",
   "metadata": {},
   "source": [
    "#### Define Action"
   ]
  },
  {
   "cell_type": "markdown",
   "metadata": {},
   "source": [
    "Onnut intersection ID & Virtual intersection ID"
   ]
  },
  {
   "cell_type": "code",
   "execution_count": 17,
   "metadata": {},
   "outputs": [],
   "source": [
    "# Onnut junction ID : cluster_1088409501_272206263_5136790697_70702637\n",
    "# Virtual junction ID : : gneJ42 (old : gneJ42_4_1)\n",
    "\n",
    "id = {'onnut_junction':'cluster_1088409501_272206263_5136790697_70702637',\n",
    "      'virtual_junction':'gneJ42'}\n",
    "junction_name = list(id.keys())"
   ]
  },
  {
   "cell_type": "code",
   "execution_count": 18,
   "metadata": {},
   "outputs": [],
   "source": [
    "#traci.trafficlight.getCompleteRedYellowGreenDefinition('cluster_1088409501_272206263_5136790697_70702637')"
   ]
  },
  {
   "cell_type": "markdown",
   "metadata": {},
   "source": [
    "Select & take action"
   ]
  },
  {
   "cell_type": "code",
   "execution_count": 19,
   "metadata": {},
   "outputs": [],
   "source": [
    "def find_action(selected_traffic_signal_phases,list_greentime_duration, threshold, duration): \n",
    "#     ==\n",
    "# Function traffic_police_action takes inputs, namely, \n",
    "\n",
    "# selected_traffic_signal_phases[even index] = current phase of traffic light signal from previous decision time step\n",
    "# selected_traffic_signal_phases[odd index] = next phase of traffic light signal from previous decision time step if no signal interruption would occur\n",
    "# greentime_duration = number of seconds that current phase of traffic light signal has been used\n",
    "# max_greentime_duration = maximum allowable number of seconds for current phase of traffic light signal\n",
    "\n",
    "# and returns outputs, namely,\n",
    "\n",
    "# new_selected_traffic_signal_phases = new value of selected_traffic_signal_phases[0] and selected_traffic_signal_phases[1] (defined above) to be deployed till next decision time step\n",
    "# new_greentime_duration = new value of greentime_duration to be deployed till next decision time step\n",
    "#     ==\n",
    "\n",
    "\n",
    "    ONNUT_greentime_duration,ONNUT_phase, next_ONNUT_phase_ifno_interupt = ONNUT_find_action(selected_traffic_signal_phases,list_greentime_duration,\\\n",
    "                                                                                             threshold, duration)\n",
    "    \n",
    "    VIRTUAL_greentime_duration,VIRTUAL_phase, next_VIRTUAL_phase_ifno_interupt = VIRTUAL_find_action(selected_traffic_signal_phases,list_greentime_duration,\\\n",
    "                                                                                             threshold, duration,ONNUT_phase)\n",
    "#     PHRAKHANONG_SUKHUMVIT71_greentime_duration,PHRAKHANONG_SUKHUMVIT71_phase, next_PHRAKHANONG_SUKHUMVIT71_phase_ifno_interupt = PHRAKHANONG_SUKHUMVIT71_find_action(selected_traffic_signal_phases,list_greentime_duration, \\\n",
    "#                                                                                                                threshold, duration)\n",
    "    \n",
    "#     PHRAKHANONG_phase = PHRAKHANONG_SUKHUMVIT71_phase\n",
    "#     SUKHUMVIT71_phase = PHRAKHANONG_SUKHUMVIT71_phase\n",
    "    return [ONNUT_phase,next_ONNUT_phase_ifno_interupt, VIRTUAL_phase,next_VIRTUAL_phase_ifno_interupt],[ONNUT_greentime_duration,VIRTUAL_greentime_duration] #, PHRAKHANONG_phase, None, SUKHUMVIT71_phase, None], [ONNUT_greentime_duration, PHRAKHANONG_SUKHUMVIT71_greentime_duration]"
   ]
  },
  {
   "cell_type": "code",
   "execution_count": 20,
   "metadata": {},
   "outputs": [],
   "source": [
    "def ONNUT_find_action(selected_traffic_signal_phases,list_greentime_duration, threshold, duration):\n",
    "#Onnut\n",
    "    greentime_duration = list_greentime_duration[0]\n",
    "    current_phase = selected_traffic_signal_phases[0]\n",
    "    # print('onnut_phase_{}'.format(current_phase))\n",
    "    next_phase_ifno_interupt = selected_traffic_signal_phases[1]\n",
    "    infront_sukhumvit50_detection_id  = ['S_ONT_04_0','S_ONT_04_1','S_ONT_04_2'] #ID = 04\n",
    "    infront_bigC_detection_id = ['S_ONT_15_0','S_ONT_15_1'] #ID = 15\n",
    "\n",
    "    onnut_SB_detection_id = ['S_ONT_05_0','S_ONT_05_1']\n",
    "\n",
    "    # print('onnut suk50 flow = {}'.format(get_flow_sum(infront_sukhumvit50_detection_id)))\n",
    "    # print('===================================')\n",
    "    if current_phase == 1 :\n",
    "\n",
    "        if duration['ONNUT_FP1_END_MINGREEN'] >= greentime_duration :\n",
    "            count['ONNUT_FP1_END_MINGREEN'] +=1 \n",
    "            current_phase = 1\n",
    "\n",
    "        elif duration['ONNUT_FP1_END_MAXGREEN'] <= greentime_duration :\n",
    "            count['ONNUT_FP1_END_MAXGREEN'] +=1 \n",
    "            current_phase = 2\n",
    "\n",
    "        #elif 04 detector flow/occupancy??? \n",
    "        elif get_flow_sum(infront_sukhumvit50_detection_id) >= threshold['ONNUT_FP1_END_FLOW'] : \n",
    "            count['ONNUT_FP1_END_FLOW'] += 1\n",
    "            current_phase = 2\n",
    "\n",
    "        #elif infront Big c detector unjamed length???\n",
    "        elif get_unjamlength_meters(infront_bigC_detection_id) <= threshold['ONNUT_FP1_END_UNJAM'] :\n",
    "            count['ONNUT_FP1_END_UNJAM'] += 1\n",
    "            current_phase = 2\n",
    " \n",
    "    elif current_phase == 2 :\n",
    "        if duration['ONNUT_FP2_END_MINGREEN'] >= greentime_duration :\n",
    "            count['ONNUT_FP2_END_MINGREEN'] +=1 \n",
    "            current_phase = 2\n",
    "        elif duration['ONNUT_FP2_END_MAXGREEN'] <= greentime_duration :\n",
    "            count['ONNUT_FP2_END_MAXGREEN'] +=1 \n",
    "            current_phase = 1\n",
    "            \n",
    "        #elif 05detector flow/occupancy???\n",
    "        elif get_flow_sum(onnut_SB_detection_id) <= threshold['ONNUT_FP2_END_FLOW'] :\n",
    "            count['ONNUT_FP2_END_FLOW'] += 1\n",
    "            current_phase = 1\n",
    "\n",
    "    if selected_traffic_signal_phases[0] == current_phase:\n",
    "        greentime_duration += 15\n",
    "    else: greentime_duration = 0\n",
    "    \n",
    "    Onnut_phase = current_phase\n",
    "    next_Onnut_phase_ifno_interupt = next_phase_ifno_interupt\n",
    "    new_greentime_duration = greentime_duration\n",
    "#     action = [ KlongTei_phase, None, Rama4_phase,  next_Rama4_phase, 0, None, 0, None, 0, None, 0, None]\n",
    "\n",
    "    return  new_greentime_duration, Onnut_phase, next_Onnut_phase_ifno_interupt\n"
   ]
  },
  {
   "cell_type": "code",
   "execution_count": 21,
   "metadata": {},
   "outputs": [],
   "source": [
    "def VIRTUAL_find_action(selected_traffic_signal_phases,list_greentime_duration, threshold, duration,ONNUT_phase) :\n",
    "    #Virtual intersection infront of Big-C\n",
    "    greentime_duration = list_greentime_duration[1]\n",
    "    # print('virtual green time{}'.format(greentime_duration))\n",
    "    current_phase = selected_traffic_signal_phases[2]\n",
    "    # print('virtual_phase{}'.format(current_phase))\n",
    "    next_phase_ifno_interupt = selected_traffic_signal_phases[3]\n",
    "\n",
    "    onnut_next_phase = ONNUT_phase\n",
    "\n",
    "    detector_id_17 = ['S_ONT_17_0']\n",
    "    detector_id_15 = ['S_ONT_15_0','S_ONT_15_1']\n",
    "    # detector_id_right_lane_get_in_BigC = ['S_ONT_13_1','S_ONT_14_1']\n",
    "    detector_id_right_lane_get_in_BigC = ['S_ONT_13_1']\n",
    "    detector_id_bangna_bridge = ['S_ONT_02_0','S_ONT_02_1']\n",
    "\n",
    "    # print(get_unjamlength_meters(detector_id_17))\n",
    "    # print(get_unjamlength_meters(detector_id_right_lane_get_in_BigC))\n",
    "    # print(get_unjamlength_meters(detector_id_bangna_bridge))\n",
    "    # print('==================================================')\n",
    "    \n",
    "    if onnut_next_phase == 2 :\n",
    "        count['VIRTUAL_ONNUT_ASSOCIATE'] += 1\n",
    "        #Associate phase condition for ONNUT & VIRTUAl intersection\n",
    "        current_phase = 1\n",
    "\n",
    "    elif current_phase == 1:\n",
    "        # print(get_unjamlength_meters(detector_id_right_lane_get_in_BigC))\n",
    "\n",
    "        if duration['VIRTUAL_FP1_END_MINGREEN'] >= greentime_duration :\n",
    "            count['VIRTUAL_FP1_END_MINGREEN'] +=1 \n",
    "            current_phase = 1\n",
    "\n",
    "        #===============================================================#\n",
    "\n",
    "        elif duration['VIRTUAL_FP1_END_MAXGREEN'] <= greentime_duration :\n",
    "            count['VIRTUAL_FP1_END_MAXGREEN'] +=1 \n",
    "            current_phase = 3\n",
    "\n",
    "        #===============================================================#\n",
    "        \n",
    "        elif get_unjamlength_meters(detector_id_17) <= threshold['VIRTUAL_FP1_END_UNJAM_17'] :\n",
    "            #Queue length in BigC\n",
    "            count['VIRTUAL_FP1_END_UNJAM_17'] += 1\n",
    "            current_phase = 2 \n",
    "\n",
    "        elif get_unjamlength_meters(detector_id_right_lane_get_in_BigC) <= threshold['VIRTUAL_FP1_END_UNJAM_13_14']  :\n",
    "            #Congested by car want to get in bigC (right lane)\n",
    "            count['VIRTUAL_FP1_END_UNJAM_13_14'] += 1\n",
    "            current_phase = 3 \n",
    "        \n",
    "        elif get_unjamlength_meters(detector_id_bangna_bridge) <= threshold['VIRTUAL_FP1_END_UNJAM_BANGNA'] : \n",
    "            #Onnut-Bangna Bridge condition \n",
    "            count['VIRTUAL_FP1_END_UNJAM_BANGNA'] += 1\n",
    "            current_phase = 1\n",
    "\n",
    "    elif current_phase == 2 :\n",
    "        current_phase = 1 \n",
    "    \n",
    "    elif current_phase == 3 :\n",
    "        current_phase = 1\n",
    "\n",
    "\n",
    "    if selected_traffic_signal_phases[2] == current_phase:\n",
    "        greentime_duration += 15\n",
    "    else: greentime_duration = 0\n",
    "\n",
    "    Virtual_phase = current_phase\n",
    "    next_Virtual_phase_ifno_interupt = next_phase_ifno_interupt\n",
    "    new_greentime_duration = greentime_duration\n",
    "\n",
    "    return new_greentime_duration, Virtual_phase, next_Virtual_phase_ifno_interupt"
   ]
  },
  {
   "cell_type": "code",
   "execution_count": 22,
   "metadata": {},
   "outputs": [],
   "source": [
    "def take_action(new_selected_traffic_signal_phases):\n",
    "#     ==\n",
    "# Function take_action takes inputs, namely, \n",
    "\n",
    "# new_selected_traffic_signal_phases[even indec] = current phase of traffic light signal from previous decision time step\n",
    "# new_selected_traffic_signal_phases[odd index] = next phase of traffic light signal from previous decision time step if no signal interruption would occur\n",
    "\n",
    "# and returns outputs, namely,\n",
    "\n",
    "# JamLengthMeter = sum of jam length in detectors area\n",
    "# Speed = sum of speed of all vehicles in detectors area\n",
    "\n",
    "\n",
    "#======================= P'pupae ===========================#\n",
    "    # change_to_phase = new_selected_traffic_signal_phases[0::2]\n",
    "\n",
    "    # print(new_selected_traffic_signal_phases,change_to_phase)\n",
    "\n",
    "    # change_to_phase_sumo = [e for e in change_to_phase]\n",
    "\n",
    "    current_phase = [traci.trafficlight.getPhase(id[key]) for key in id.keys()]\n",
    "\n",
    "#     for i in range(2):\n",
    "# #         if change_to_phase[i] != current_phase[i]:\n",
    "# #             yellow = (change_to_phase[i]-1)%(2*number_phase[i])\n",
    "# # #             print(yellow)\n",
    "# # #             print(junction_name[i])\n",
    "# #             traci.trafficlight.setPhase(id[junction_name[i]], yellow) #  YELLOW PHASE \n",
    "# #         else:\n",
    "#         # traci.trafficlight.setPhase(id[junction_name[i]], change_to_phase_sumo[i]) # No YELLOW PHASE \n",
    "\n",
    "#         traci.trafficlight.setPhase(id[junction_name[i]], new_selected_traffic_signal_phases[i])\n",
    "    #print(new_selected_traffic_signal_phases)\n",
    "    #Onnut intersection\n",
    "    traci.trafficlight.setPhase(id[junction_name[0]], (new_selected_traffic_signal_phases[0]-1))\n",
    "\n",
    "    #Virtual intersection \n",
    "    traci.trafficlight.setPhase(id[junction_name[1]], (new_selected_traffic_signal_phases[2]-1))\n",
    "\n",
    "    throughput_onnut = 0\n",
    "    throughput_virtual = 0\n",
    "\n",
    "    \n",
    "    waiting_time_onnut = 0\n",
    "    waiting_time_virtual = 0\n",
    "\n",
    "    teleport_number = 0 \n",
    "\n",
    "    for i in range(15): # change to 10????\n",
    "        throughput_onnut += get_throughput_onnut()\n",
    "        throughput_virtual += get_throughput_virtual()\n",
    "\n",
    "        teleport_number += traci.simulation.getEndingTeleportNumber()\n",
    "        # waiting_time_onnut += get_waiting_time_onnut()\n",
    "        # waiting_time_virtual += get_waiting_time_virtual()\n",
    "\n",
    "        traci.simulationStep()\n",
    "\n",
    "    travel_time_onnut = get_travel_time_onnut()\n",
    "    travel_time_virtual = get_travel_time_virtual()\n",
    "#     w1 = sum([traci.lanearea.getLastStepOccupancy(e) for e in get_edge_id(reward_w1)])\n",
    "#     w2 = sum([traci.lanearea.getLastStepOccupancy(e) for e in get_edge_id(reward_w1)])\n",
    "\n",
    "    # JamLengthPercent= sum([traci.lanearea.getJamLengthMeters(i) for i in list(namedetector_df['detector_id'])])/sum([traci.lanearea.getLength(i) for i in list(namedetector_df['detector_id'])])\n",
    "    # Speed = sum([traci.lanearea.getLastStepMeanSpeed(i) for i in list(namedetector_df['detector_id'])])/(len(list(namedetector_df['detector_id'])))\n",
    "    # Flow = sum([traci.lanearea.getLastStepVehicleNumber(e) for e in list(namedetector_df['detector_id'])])\n",
    "    JamLengthPercent = 0\n",
    "    Speed = 0\n",
    "    Flow = 0\n",
    "    \n",
    "    \n",
    "#     WaitingTime = sum([traci.lane.getWaitingTime(i) for i in lane])\n",
    "#     HaltingNumber = sum([traci.lane.getLastStepHaltingNumber(i) for i in  lane]) #list(NAME['id'])\n",
    "#     Traveltime = sum([traci.lane.getTraveltime(i) for i in  lane])\n",
    "   \n",
    "    return JamLengthPercent,Speed,Flow,throughput_onnut,throughput_virtual,travel_time_onnut,travel_time_virtual,waiting_time_onnut,waiting_time_virtual,teleport_number #,WaitingTime, HaltingNumber,  Traveltime "
   ]
  },
  {
   "cell_type": "markdown",
   "metadata": {},
   "source": [
    "#### Run baseline model"
   ]
  },
  {
   "cell_type": "code",
   "execution_count": 23,
   "metadata": {},
   "outputs": [],
   "source": [
    "# with open( \"./AkeOutput/onnut_occfull.csv\" , 'w', newline='') as csv_file:\n",
    "#     header = ['rewards', 'throughput','backlog',\"meanWaitingTime\", \"meanTravelTime\",\"meanSpeed\",\"action\"]\n",
    "#     writer = csv.DictWriter(csv_file, fieldnames = header)\n",
    "#     writer.writeheader()\n",
    "        \n",
    "def episode0(threshold, duration,random_seed):\n",
    "    #episode = 0\n",
    "    action_onnut = []\n",
    "    action_virtual = []\n",
    "    reward_memory = []\n",
    "    JamLengthPercent_memory = []\n",
    "    Speed_memory = []\n",
    "    throughput_onnut_memory = []\n",
    "    throughput_virtual_memory = []\n",
    "    travel_time_onnut_memory = []\n",
    "    travel_time_virtual_memory = []\n",
    "    waiting_time_onnut_memory = []\n",
    "    waiting_time_virtual_memory = []\n",
    "    teleport_number_memory = []\n",
    "\n",
    "    list_greentime_duration = [0, 0]\n",
    "    start(random_seed)\n",
    "    traci.simulationStep()\n",
    "    selected_traffic_signal_phases = [1, None,1 ,None]\n",
    "    for seconds in range(960): #2880\n",
    "#         state, len_state = get_state() #minimum_remaining_time = Q-lengthเมตร/free flow speed\n",
    "        new_selected_traffic_signal_phases, new_greentime_duration = find_action(selected_traffic_signal_phases,\n",
    "            list_greentime_duration, threshold, duration)\n",
    "        # output = 2 lists with 2 components in each list.\n",
    "\n",
    "#         print( new_selected_traffic_signal_phases, new_greentime_duration)\n",
    "#         print(count)\n",
    "\n",
    "        JamLengthPercent,Speed,Flow,throughput_onnut,throughput_virtual, \\\n",
    "        travel_time_onnut,travel_time_virtual,waiting_time_onnut,waiting_time_virtual,teleport_number \\\n",
    "        = take_action(new_selected_traffic_signal_phases)\n",
    "\n",
    "\n",
    "        action_onnut.append(new_selected_traffic_signal_phases[0])\n",
    "        action_virtual.append(new_selected_traffic_signal_phases[2])\n",
    "        JamLengthPercent_memory.append(JamLengthPercent)\n",
    "        Speed_memory.append(Speed)\n",
    "        throughput_onnut_memory.append(throughput_onnut)\n",
    "        throughput_virtual_memory.append(throughput_virtual)\n",
    "        travel_time_onnut_memory.append(travel_time_onnut)\n",
    "        travel_time_virtual_memory.append(travel_time_virtual)\n",
    "        waiting_time_onnut_memory.append(waiting_time_onnut)\n",
    "        waiting_time_virtual_memory.append(waiting_time_virtual)\n",
    "        teleport_number_memory.append(teleport_number)\n",
    "\n",
    "\n",
    "        #backlog = sum([traci.lanearea.getLastStepVehicleNumber(i) for i in ONNUT_backlog])\n",
    "        # backlog = sum([traci.lanearea.getLastStepVehicleNumber(i) for i in list(namedetector_df['detector_id'])])\n",
    "        \n",
    "#         print(JamLengthMeter)\n",
    "#         print(Speed)\n",
    "#         print(state)\n",
    "        selected_traffic_signal_phases = new_selected_traffic_signal_phases\n",
    "        list_greentime_duration = new_greentime_duration \n",
    "\n",
    "        # with open( \"./onnut_police.csv\" , 'a', newline='') as csv_file:\n",
    "        #     header = ['throughput_onnut','throughput_virtual','travel_time_onnut','travel_time_virtual','waiting_time_onnut','waiting_time_virtual','backlog',\"meanSpeed\",\"JamLengthPercent\" ]\n",
    "\n",
    "        #     writer = csv.DictWriter(csv_file, fieldnames = header)\n",
    "        #     writer.writerow({'throughput_onnut': throughput_onnut , 'throughput_virtual' : throughput_virtual, \\\n",
    "        #                     'travel_time_onnut': travel_time_onnut, 'travel_time_virtual': travel_time_virtual, \\\n",
    "        #                     'waiting_time_onnut' : waiting_time_onnut, 'waiting_time_virtual' : waiting_time_virtual,\n",
    "        #                     'backlog': backlog,\"meanSpeed\":Speed,\"JamLengthPercent\":JamLengthPercent\n",
    "        #                     })\n",
    "\n",
    "#         with open('output.csv', mode='w', newline='') as csv_file:\n",
    "#             writer = csv.writer(csv_file)\n",
    "#             writer.writerow(['throughput'])\n",
    "#             writer.writerows([throughput_memory])\n",
    "#             writer.writerow(['Jam'])\n",
    "#             writer.writerows([JamLengthPercent_memory])\n",
    "            \n",
    "    # plt.figure(2)\n",
    "    # plt.clf() \n",
    "    # plt.plot(throughput_onnut_memory)\n",
    "    # plt.plot(throughput_virtual_memory)\n",
    "    \n",
    "#     line_up, = plt.plot(JamLengthMeter_memory)\n",
    "#     line_mid,  =  plt.plot(Speed_memory)\n",
    "#     line_down, = plt.plot(throughput_memory)\n",
    "#     plt.legend([line_up, line_down], ['JamLengthMeter', 'Speed','throughput'])\n",
    "    # plt.pause(0.001)\n",
    "    traci.close()\n",
    "    return action_onnut,action_virtual, \\\n",
    "        throughput_onnut_memory, throughput_virtual_memory,\\\n",
    "        travel_time_onnut_memory,travel_time_virtual_memory,\\\n",
    "            waiting_time_onnut_memory,waiting_time_virtual_memory,\\\n",
    "                teleport_number_memory"
   ]
  },
  {
   "cell_type": "code",
   "execution_count": 24,
   "metadata": {},
   "outputs": [
    {
     "ename": "OSError",
     "evalue": "Cannot save file into a non-existent directory: '\\akebaseline\\tuned_police'",
     "output_type": "error",
     "traceback": [
      "\u001b[1;31m---------------------------------------------------------------------------\u001b[0m",
      "\u001b[1;31mOSError\u001b[0m                                   Traceback (most recent call last)",
      "\u001b[1;32mc:\\Users\\Asus\\OneDrive - Chulalongkorn University\\Desktop\\Senior Project\\Experiments-with-DQN-Onnut-27042022\\Experiments-with-DQN-Onnut-21042022\\multi-agent-dqn-main\\Onnut_police_baseline.ipynb Cell 35'\u001b[0m in \u001b[0;36m<cell line: 3>\u001b[1;34m()\u001b[0m\n\u001b[0;32m      <a href='vscode-notebook-cell:/c%3A/Users/Asus/OneDrive%20-%20Chulalongkorn%20University/Desktop/Senior%20Project/Experiments-with-DQN-Onnut-27042022/Experiments-with-DQN-Onnut-21042022/multi-agent-dqn-main/Onnut_police_baseline.ipynb#ch0000034?line=8'>9</a>\u001b[0m baseline_df \u001b[39m=\u001b[39m pd\u001b[39m.\u001b[39mDataFrame(\n\u001b[0;32m     <a href='vscode-notebook-cell:/c%3A/Users/Asus/OneDrive%20-%20Chulalongkorn%20University/Desktop/Senior%20Project/Experiments-with-DQN-Onnut-27042022/Experiments-with-DQN-Onnut-21042022/multi-agent-dqn-main/Onnut_police_baseline.ipynb#ch0000034?line=9'>10</a>\u001b[0m     {\u001b[39m'\u001b[39m\u001b[39maction_onnut\u001b[39m\u001b[39m'\u001b[39m : action_onnut,\n\u001b[0;32m     <a href='vscode-notebook-cell:/c%3A/Users/Asus/OneDrive%20-%20Chulalongkorn%20University/Desktop/Senior%20Project/Experiments-with-DQN-Onnut-27042022/Experiments-with-DQN-Onnut-21042022/multi-agent-dqn-main/Onnut_police_baseline.ipynb#ch0000034?line=10'>11</a>\u001b[0m     \u001b[39m'\u001b[39m\u001b[39maction_virtual\u001b[39m\u001b[39m'\u001b[39m : action_virtual,\n\u001b[1;32m   (...)\u001b[0m\n\u001b[0;32m     <a href='vscode-notebook-cell:/c%3A/Users/Asus/OneDrive%20-%20Chulalongkorn%20University/Desktop/Senior%20Project/Experiments-with-DQN-Onnut-27042022/Experiments-with-DQN-Onnut-21042022/multi-agent-dqn-main/Onnut_police_baseline.ipynb#ch0000034?line=15'>16</a>\u001b[0m     \u001b[39m'\u001b[39m\u001b[39mteleport_number\u001b[39m\u001b[39m'\u001b[39m : teleport_number_memory\n\u001b[0;32m     <a href='vscode-notebook-cell:/c%3A/Users/Asus/OneDrive%20-%20Chulalongkorn%20University/Desktop/Senior%20Project/Experiments-with-DQN-Onnut-27042022/Experiments-with-DQN-Onnut-21042022/multi-agent-dqn-main/Onnut_police_baseline.ipynb#ch0000034?line=16'>17</a>\u001b[0m     })\n\u001b[0;32m     <a href='vscode-notebook-cell:/c%3A/Users/Asus/OneDrive%20-%20Chulalongkorn%20University/Desktop/Senior%20Project/Experiments-with-DQN-Onnut-27042022/Experiments-with-DQN-Onnut-21042022/multi-agent-dqn-main/Onnut_police_baseline.ipynb#ch0000034?line=17'>18</a>\u001b[0m \u001b[39m# os.chdir('C:\\\\Users\\\\Asus\\\\OneDrive - Chulalongkorn University\\\\Desktop\\\\Senior Project\\\\Experiments-with-DQN-Onnut-27042022\\\\Experiments-with-DQN-Onnut-21042022\\\\multi-agent-dqn-main\\\\baseline_output')\u001b[39;00m\n\u001b[1;32m---> <a href='vscode-notebook-cell:/c%3A/Users/Asus/OneDrive%20-%20Chulalongkorn%20University/Desktop/Senior%20Project/Experiments-with-DQN-Onnut-27042022/Experiments-with-DQN-Onnut-21042022/multi-agent-dqn-main/Onnut_police_baseline.ipynb#ch0000034?line=18'>19</a>\u001b[0m baseline_df\u001b[39m.\u001b[39;49mto_csv(\u001b[39m'\u001b[39;49m\u001b[39m/akebaseline/tuned_police/tuned_police_output_run\u001b[39;49m\u001b[39m{}\u001b[39;49;00m\u001b[39m.csv\u001b[39;49m\u001b[39m'\u001b[39;49m\u001b[39m.\u001b[39;49mformat(i))\n",
      "File \u001b[1;32mc:\\Users\\Asus\\anaconda3\\envs\\SeniorProject\\lib\\site-packages\\pandas\\core\\generic.py:3563\u001b[0m, in \u001b[0;36mNDFrame.to_csv\u001b[1;34m(self, path_or_buf, sep, na_rep, float_format, columns, header, index, index_label, mode, encoding, compression, quoting, quotechar, line_terminator, chunksize, date_format, doublequote, escapechar, decimal, errors, storage_options)\u001b[0m\n\u001b[0;32m   <a href='file:///c%3A/Users/Asus/anaconda3/envs/SeniorProject/lib/site-packages/pandas/core/generic.py?line=3551'>3552</a>\u001b[0m df \u001b[39m=\u001b[39m \u001b[39mself\u001b[39m \u001b[39mif\u001b[39;00m \u001b[39misinstance\u001b[39m(\u001b[39mself\u001b[39m, ABCDataFrame) \u001b[39melse\u001b[39;00m \u001b[39mself\u001b[39m\u001b[39m.\u001b[39mto_frame()\n\u001b[0;32m   <a href='file:///c%3A/Users/Asus/anaconda3/envs/SeniorProject/lib/site-packages/pandas/core/generic.py?line=3553'>3554</a>\u001b[0m formatter \u001b[39m=\u001b[39m DataFrameFormatter(\n\u001b[0;32m   <a href='file:///c%3A/Users/Asus/anaconda3/envs/SeniorProject/lib/site-packages/pandas/core/generic.py?line=3554'>3555</a>\u001b[0m     frame\u001b[39m=\u001b[39mdf,\n\u001b[0;32m   <a href='file:///c%3A/Users/Asus/anaconda3/envs/SeniorProject/lib/site-packages/pandas/core/generic.py?line=3555'>3556</a>\u001b[0m     header\u001b[39m=\u001b[39mheader,\n\u001b[1;32m   (...)\u001b[0m\n\u001b[0;32m   <a href='file:///c%3A/Users/Asus/anaconda3/envs/SeniorProject/lib/site-packages/pandas/core/generic.py?line=3559'>3560</a>\u001b[0m     decimal\u001b[39m=\u001b[39mdecimal,\n\u001b[0;32m   <a href='file:///c%3A/Users/Asus/anaconda3/envs/SeniorProject/lib/site-packages/pandas/core/generic.py?line=3560'>3561</a>\u001b[0m )\n\u001b[1;32m-> <a href='file:///c%3A/Users/Asus/anaconda3/envs/SeniorProject/lib/site-packages/pandas/core/generic.py?line=3562'>3563</a>\u001b[0m \u001b[39mreturn\u001b[39;00m DataFrameRenderer(formatter)\u001b[39m.\u001b[39;49mto_csv(\n\u001b[0;32m   <a href='file:///c%3A/Users/Asus/anaconda3/envs/SeniorProject/lib/site-packages/pandas/core/generic.py?line=3563'>3564</a>\u001b[0m     path_or_buf,\n\u001b[0;32m   <a href='file:///c%3A/Users/Asus/anaconda3/envs/SeniorProject/lib/site-packages/pandas/core/generic.py?line=3564'>3565</a>\u001b[0m     line_terminator\u001b[39m=\u001b[39;49mline_terminator,\n\u001b[0;32m   <a href='file:///c%3A/Users/Asus/anaconda3/envs/SeniorProject/lib/site-packages/pandas/core/generic.py?line=3565'>3566</a>\u001b[0m     sep\u001b[39m=\u001b[39;49msep,\n\u001b[0;32m   <a href='file:///c%3A/Users/Asus/anaconda3/envs/SeniorProject/lib/site-packages/pandas/core/generic.py?line=3566'>3567</a>\u001b[0m     encoding\u001b[39m=\u001b[39;49mencoding,\n\u001b[0;32m   <a href='file:///c%3A/Users/Asus/anaconda3/envs/SeniorProject/lib/site-packages/pandas/core/generic.py?line=3567'>3568</a>\u001b[0m     errors\u001b[39m=\u001b[39;49merrors,\n\u001b[0;32m   <a href='file:///c%3A/Users/Asus/anaconda3/envs/SeniorProject/lib/site-packages/pandas/core/generic.py?line=3568'>3569</a>\u001b[0m     compression\u001b[39m=\u001b[39;49mcompression,\n\u001b[0;32m   <a href='file:///c%3A/Users/Asus/anaconda3/envs/SeniorProject/lib/site-packages/pandas/core/generic.py?line=3569'>3570</a>\u001b[0m     quoting\u001b[39m=\u001b[39;49mquoting,\n\u001b[0;32m   <a href='file:///c%3A/Users/Asus/anaconda3/envs/SeniorProject/lib/site-packages/pandas/core/generic.py?line=3570'>3571</a>\u001b[0m     columns\u001b[39m=\u001b[39;49mcolumns,\n\u001b[0;32m   <a href='file:///c%3A/Users/Asus/anaconda3/envs/SeniorProject/lib/site-packages/pandas/core/generic.py?line=3571'>3572</a>\u001b[0m     index_label\u001b[39m=\u001b[39;49mindex_label,\n\u001b[0;32m   <a href='file:///c%3A/Users/Asus/anaconda3/envs/SeniorProject/lib/site-packages/pandas/core/generic.py?line=3572'>3573</a>\u001b[0m     mode\u001b[39m=\u001b[39;49mmode,\n\u001b[0;32m   <a href='file:///c%3A/Users/Asus/anaconda3/envs/SeniorProject/lib/site-packages/pandas/core/generic.py?line=3573'>3574</a>\u001b[0m     chunksize\u001b[39m=\u001b[39;49mchunksize,\n\u001b[0;32m   <a href='file:///c%3A/Users/Asus/anaconda3/envs/SeniorProject/lib/site-packages/pandas/core/generic.py?line=3574'>3575</a>\u001b[0m     quotechar\u001b[39m=\u001b[39;49mquotechar,\n\u001b[0;32m   <a href='file:///c%3A/Users/Asus/anaconda3/envs/SeniorProject/lib/site-packages/pandas/core/generic.py?line=3575'>3576</a>\u001b[0m     date_format\u001b[39m=\u001b[39;49mdate_format,\n\u001b[0;32m   <a href='file:///c%3A/Users/Asus/anaconda3/envs/SeniorProject/lib/site-packages/pandas/core/generic.py?line=3576'>3577</a>\u001b[0m     doublequote\u001b[39m=\u001b[39;49mdoublequote,\n\u001b[0;32m   <a href='file:///c%3A/Users/Asus/anaconda3/envs/SeniorProject/lib/site-packages/pandas/core/generic.py?line=3577'>3578</a>\u001b[0m     escapechar\u001b[39m=\u001b[39;49mescapechar,\n\u001b[0;32m   <a href='file:///c%3A/Users/Asus/anaconda3/envs/SeniorProject/lib/site-packages/pandas/core/generic.py?line=3578'>3579</a>\u001b[0m     storage_options\u001b[39m=\u001b[39;49mstorage_options,\n\u001b[0;32m   <a href='file:///c%3A/Users/Asus/anaconda3/envs/SeniorProject/lib/site-packages/pandas/core/generic.py?line=3579'>3580</a>\u001b[0m )\n",
      "File \u001b[1;32mc:\\Users\\Asus\\anaconda3\\envs\\SeniorProject\\lib\\site-packages\\pandas\\io\\formats\\format.py:1180\u001b[0m, in \u001b[0;36mDataFrameRenderer.to_csv\u001b[1;34m(self, path_or_buf, encoding, sep, columns, index_label, mode, compression, quoting, quotechar, line_terminator, chunksize, date_format, doublequote, escapechar, errors, storage_options)\u001b[0m\n\u001b[0;32m   <a href='file:///c%3A/Users/Asus/anaconda3/envs/SeniorProject/lib/site-packages/pandas/io/formats/format.py?line=1158'>1159</a>\u001b[0m     created_buffer \u001b[39m=\u001b[39m \u001b[39mFalse\u001b[39;00m\n\u001b[0;32m   <a href='file:///c%3A/Users/Asus/anaconda3/envs/SeniorProject/lib/site-packages/pandas/io/formats/format.py?line=1160'>1161</a>\u001b[0m csv_formatter \u001b[39m=\u001b[39m CSVFormatter(\n\u001b[0;32m   <a href='file:///c%3A/Users/Asus/anaconda3/envs/SeniorProject/lib/site-packages/pandas/io/formats/format.py?line=1161'>1162</a>\u001b[0m     path_or_buf\u001b[39m=\u001b[39mpath_or_buf,\n\u001b[0;32m   <a href='file:///c%3A/Users/Asus/anaconda3/envs/SeniorProject/lib/site-packages/pandas/io/formats/format.py?line=1162'>1163</a>\u001b[0m     line_terminator\u001b[39m=\u001b[39mline_terminator,\n\u001b[1;32m   (...)\u001b[0m\n\u001b[0;32m   <a href='file:///c%3A/Users/Asus/anaconda3/envs/SeniorProject/lib/site-packages/pandas/io/formats/format.py?line=1177'>1178</a>\u001b[0m     formatter\u001b[39m=\u001b[39m\u001b[39mself\u001b[39m\u001b[39m.\u001b[39mfmt,\n\u001b[0;32m   <a href='file:///c%3A/Users/Asus/anaconda3/envs/SeniorProject/lib/site-packages/pandas/io/formats/format.py?line=1178'>1179</a>\u001b[0m )\n\u001b[1;32m-> <a href='file:///c%3A/Users/Asus/anaconda3/envs/SeniorProject/lib/site-packages/pandas/io/formats/format.py?line=1179'>1180</a>\u001b[0m csv_formatter\u001b[39m.\u001b[39;49msave()\n\u001b[0;32m   <a href='file:///c%3A/Users/Asus/anaconda3/envs/SeniorProject/lib/site-packages/pandas/io/formats/format.py?line=1181'>1182</a>\u001b[0m \u001b[39mif\u001b[39;00m created_buffer:\n\u001b[0;32m   <a href='file:///c%3A/Users/Asus/anaconda3/envs/SeniorProject/lib/site-packages/pandas/io/formats/format.py?line=1182'>1183</a>\u001b[0m     \u001b[39massert\u001b[39;00m \u001b[39misinstance\u001b[39m(path_or_buf, StringIO)\n",
      "File \u001b[1;32mc:\\Users\\Asus\\anaconda3\\envs\\SeniorProject\\lib\\site-packages\\pandas\\io\\formats\\csvs.py:241\u001b[0m, in \u001b[0;36mCSVFormatter.save\u001b[1;34m(self)\u001b[0m\n\u001b[0;32m    <a href='file:///c%3A/Users/Asus/anaconda3/envs/SeniorProject/lib/site-packages/pandas/io/formats/csvs.py?line=236'>237</a>\u001b[0m \u001b[39m\"\"\"\u001b[39;00m\n\u001b[0;32m    <a href='file:///c%3A/Users/Asus/anaconda3/envs/SeniorProject/lib/site-packages/pandas/io/formats/csvs.py?line=237'>238</a>\u001b[0m \u001b[39mCreate the writer & save.\u001b[39;00m\n\u001b[0;32m    <a href='file:///c%3A/Users/Asus/anaconda3/envs/SeniorProject/lib/site-packages/pandas/io/formats/csvs.py?line=238'>239</a>\u001b[0m \u001b[39m\"\"\"\u001b[39;00m\n\u001b[0;32m    <a href='file:///c%3A/Users/Asus/anaconda3/envs/SeniorProject/lib/site-packages/pandas/io/formats/csvs.py?line=239'>240</a>\u001b[0m \u001b[39m# apply compression and byte/text conversion\u001b[39;00m\n\u001b[1;32m--> <a href='file:///c%3A/Users/Asus/anaconda3/envs/SeniorProject/lib/site-packages/pandas/io/formats/csvs.py?line=240'>241</a>\u001b[0m \u001b[39mwith\u001b[39;00m get_handle(\n\u001b[0;32m    <a href='file:///c%3A/Users/Asus/anaconda3/envs/SeniorProject/lib/site-packages/pandas/io/formats/csvs.py?line=241'>242</a>\u001b[0m     \u001b[39mself\u001b[39;49m\u001b[39m.\u001b[39;49mfilepath_or_buffer,\n\u001b[0;32m    <a href='file:///c%3A/Users/Asus/anaconda3/envs/SeniorProject/lib/site-packages/pandas/io/formats/csvs.py?line=242'>243</a>\u001b[0m     \u001b[39mself\u001b[39;49m\u001b[39m.\u001b[39;49mmode,\n\u001b[0;32m    <a href='file:///c%3A/Users/Asus/anaconda3/envs/SeniorProject/lib/site-packages/pandas/io/formats/csvs.py?line=243'>244</a>\u001b[0m     encoding\u001b[39m=\u001b[39;49m\u001b[39mself\u001b[39;49m\u001b[39m.\u001b[39;49mencoding,\n\u001b[0;32m    <a href='file:///c%3A/Users/Asus/anaconda3/envs/SeniorProject/lib/site-packages/pandas/io/formats/csvs.py?line=244'>245</a>\u001b[0m     errors\u001b[39m=\u001b[39;49m\u001b[39mself\u001b[39;49m\u001b[39m.\u001b[39;49merrors,\n\u001b[0;32m    <a href='file:///c%3A/Users/Asus/anaconda3/envs/SeniorProject/lib/site-packages/pandas/io/formats/csvs.py?line=245'>246</a>\u001b[0m     compression\u001b[39m=\u001b[39;49m\u001b[39mself\u001b[39;49m\u001b[39m.\u001b[39;49mcompression,\n\u001b[0;32m    <a href='file:///c%3A/Users/Asus/anaconda3/envs/SeniorProject/lib/site-packages/pandas/io/formats/csvs.py?line=246'>247</a>\u001b[0m     storage_options\u001b[39m=\u001b[39;49m\u001b[39mself\u001b[39;49m\u001b[39m.\u001b[39;49mstorage_options,\n\u001b[0;32m    <a href='file:///c%3A/Users/Asus/anaconda3/envs/SeniorProject/lib/site-packages/pandas/io/formats/csvs.py?line=247'>248</a>\u001b[0m ) \u001b[39mas\u001b[39;00m handles:\n\u001b[0;32m    <a href='file:///c%3A/Users/Asus/anaconda3/envs/SeniorProject/lib/site-packages/pandas/io/formats/csvs.py?line=248'>249</a>\u001b[0m \n\u001b[0;32m    <a href='file:///c%3A/Users/Asus/anaconda3/envs/SeniorProject/lib/site-packages/pandas/io/formats/csvs.py?line=249'>250</a>\u001b[0m     \u001b[39m# Note: self.encoding is irrelevant here\u001b[39;00m\n\u001b[0;32m    <a href='file:///c%3A/Users/Asus/anaconda3/envs/SeniorProject/lib/site-packages/pandas/io/formats/csvs.py?line=250'>251</a>\u001b[0m     \u001b[39mself\u001b[39m\u001b[39m.\u001b[39mwriter \u001b[39m=\u001b[39m csvlib\u001b[39m.\u001b[39mwriter(\n\u001b[0;32m    <a href='file:///c%3A/Users/Asus/anaconda3/envs/SeniorProject/lib/site-packages/pandas/io/formats/csvs.py?line=251'>252</a>\u001b[0m         handles\u001b[39m.\u001b[39mhandle,\n\u001b[0;32m    <a href='file:///c%3A/Users/Asus/anaconda3/envs/SeniorProject/lib/site-packages/pandas/io/formats/csvs.py?line=252'>253</a>\u001b[0m         lineterminator\u001b[39m=\u001b[39m\u001b[39mself\u001b[39m\u001b[39m.\u001b[39mline_terminator,\n\u001b[1;32m   (...)\u001b[0m\n\u001b[0;32m    <a href='file:///c%3A/Users/Asus/anaconda3/envs/SeniorProject/lib/site-packages/pandas/io/formats/csvs.py?line=257'>258</a>\u001b[0m         quotechar\u001b[39m=\u001b[39m\u001b[39mself\u001b[39m\u001b[39m.\u001b[39mquotechar,\n\u001b[0;32m    <a href='file:///c%3A/Users/Asus/anaconda3/envs/SeniorProject/lib/site-packages/pandas/io/formats/csvs.py?line=258'>259</a>\u001b[0m     )\n\u001b[0;32m    <a href='file:///c%3A/Users/Asus/anaconda3/envs/SeniorProject/lib/site-packages/pandas/io/formats/csvs.py?line=260'>261</a>\u001b[0m     \u001b[39mself\u001b[39m\u001b[39m.\u001b[39m_save()\n",
      "File \u001b[1;32mc:\\Users\\Asus\\anaconda3\\envs\\SeniorProject\\lib\\site-packages\\pandas\\io\\common.py:697\u001b[0m, in \u001b[0;36mget_handle\u001b[1;34m(path_or_buf, mode, encoding, compression, memory_map, is_text, errors, storage_options)\u001b[0m\n\u001b[0;32m    <a href='file:///c%3A/Users/Asus/anaconda3/envs/SeniorProject/lib/site-packages/pandas/io/common.py?line=694'>695</a>\u001b[0m \u001b[39m# Only for write methods\u001b[39;00m\n\u001b[0;32m    <a href='file:///c%3A/Users/Asus/anaconda3/envs/SeniorProject/lib/site-packages/pandas/io/common.py?line=695'>696</a>\u001b[0m \u001b[39mif\u001b[39;00m \u001b[39m\"\u001b[39m\u001b[39mr\u001b[39m\u001b[39m\"\u001b[39m \u001b[39mnot\u001b[39;00m \u001b[39min\u001b[39;00m mode \u001b[39mand\u001b[39;00m is_path:\n\u001b[1;32m--> <a href='file:///c%3A/Users/Asus/anaconda3/envs/SeniorProject/lib/site-packages/pandas/io/common.py?line=696'>697</a>\u001b[0m     check_parent_directory(\u001b[39mstr\u001b[39;49m(handle))\n\u001b[0;32m    <a href='file:///c%3A/Users/Asus/anaconda3/envs/SeniorProject/lib/site-packages/pandas/io/common.py?line=698'>699</a>\u001b[0m \u001b[39mif\u001b[39;00m compression:\n\u001b[0;32m    <a href='file:///c%3A/Users/Asus/anaconda3/envs/SeniorProject/lib/site-packages/pandas/io/common.py?line=699'>700</a>\u001b[0m     \u001b[39mif\u001b[39;00m compression \u001b[39m!=\u001b[39m \u001b[39m\"\u001b[39m\u001b[39mzstd\u001b[39m\u001b[39m\"\u001b[39m:\n\u001b[0;32m    <a href='file:///c%3A/Users/Asus/anaconda3/envs/SeniorProject/lib/site-packages/pandas/io/common.py?line=700'>701</a>\u001b[0m         \u001b[39m# compression libraries do not like an explicit text-mode\u001b[39;00m\n",
      "File \u001b[1;32mc:\\Users\\Asus\\anaconda3\\envs\\SeniorProject\\lib\\site-packages\\pandas\\io\\common.py:571\u001b[0m, in \u001b[0;36mcheck_parent_directory\u001b[1;34m(path)\u001b[0m\n\u001b[0;32m    <a href='file:///c%3A/Users/Asus/anaconda3/envs/SeniorProject/lib/site-packages/pandas/io/common.py?line=568'>569</a>\u001b[0m parent \u001b[39m=\u001b[39m Path(path)\u001b[39m.\u001b[39mparent\n\u001b[0;32m    <a href='file:///c%3A/Users/Asus/anaconda3/envs/SeniorProject/lib/site-packages/pandas/io/common.py?line=569'>570</a>\u001b[0m \u001b[39mif\u001b[39;00m \u001b[39mnot\u001b[39;00m parent\u001b[39m.\u001b[39mis_dir():\n\u001b[1;32m--> <a href='file:///c%3A/Users/Asus/anaconda3/envs/SeniorProject/lib/site-packages/pandas/io/common.py?line=570'>571</a>\u001b[0m     \u001b[39mraise\u001b[39;00m \u001b[39mOSError\u001b[39;00m(\u001b[39mfr\u001b[39m\u001b[39m\"\u001b[39m\u001b[39mCannot save file into a non-existent directory: \u001b[39m\u001b[39m'\u001b[39m\u001b[39m{\u001b[39;00mparent\u001b[39m}\u001b[39;00m\u001b[39m'\u001b[39m\u001b[39m\"\u001b[39m)\n",
      "\u001b[1;31mOSError\u001b[0m: Cannot save file into a non-existent directory: '\\akebaseline\\tuned_police'"
     ]
    }
   ],
   "source": [
    "number_run = 100\n",
    "\n",
    "for i in range(number_run) :\n",
    "\n",
    "    action_onnut,action_virtual, throughput_onnut_memory, throughput_virtual_memory \\\n",
    "        ,travel_time_onnut_memory,travel_time_virtual_memory \\\n",
    "            ,waiting_time_onnut_memory,waiting_time_virtual_memory,teleport_number_memory = episode0(threshold, duration,random_seed=i) \n",
    "\n",
    "    baseline_df = pd.DataFrame(\n",
    "        {'action_onnut' : action_onnut,\n",
    "        'action_virtual' : action_virtual,\n",
    "        'reward_onnut': throughput_onnut_memory,\n",
    "        'reward_virtual':throughput_virtual_memory,\n",
    "        'travel_time_onnut':travel_time_onnut_memory,\n",
    "        'travel_time_virtual':travel_time_virtual_memory,\n",
    "        'teleport_number' : teleport_number_memory\n",
    "        })\n",
    "    # os.chdir('C:\\\\Users\\\\Asus\\\\OneDrive - Chulalongkorn University\\\\Desktop\\\\Senior Project\\\\Experiments-with-DQN-Onnut-27042022\\\\Experiments-with-DQN-Onnut-21042022\\\\multi-agent-dqn-main\\\\baseline_output')\n",
    "    baseline_df.to_csv('/akebaseline/tuned_police/tuned_police_output_run{}.csv'.format(i))\n",
    "\n",
    "# print(action_onnut)\n",
    "# print(action_virtual)"
   ]
  },
  {
   "cell_type": "code",
   "execution_count": null,
   "metadata": {},
   "outputs": [
    {
     "data": {
      "text/plain": [
       "12355"
      ]
     },
     "execution_count": 30,
     "metadata": {},
     "output_type": "execute_result"
    }
   ],
   "source": [
    "baseline_df['reward_virtual'].sum()"
   ]
  },
  {
   "cell_type": "code",
   "execution_count": null,
   "metadata": {},
   "outputs": [],
   "source": [
    "# try :\n",
    "#     action,throughput_onnut_memory,throughput_virtual_memory = episode0(threshold, duration) \n",
    "#     print(action)\n",
    "# finally :\n",
    "#     print(\"SUMO closing\")\n",
    "#     traci.close()"
   ]
  },
  {
   "cell_type": "code",
   "execution_count": null,
   "metadata": {},
   "outputs": [],
   "source": [
    "# traci.close() #using for closing SUMO properly"
   ]
  },
  {
   "cell_type": "code",
   "execution_count": null,
   "metadata": {},
   "outputs": [
    {
     "data": {
      "text/plain": [
       "{'ONNUT_FP1_END_FLOW': 0,\n",
       " 'ONNUT_FP2_END_FLOW': 136,\n",
       " 'ONNUT_FP1_END_UNJAM': 141,\n",
       " 'ONNUT_FP1_END_MAXGREEN': 0,\n",
       " 'ONNUT_FP2_END_MAXGREEN': 5,\n",
       " 'ONNUT_FP1_END_MINGREEN': 282,\n",
       " 'ONNUT_FP2_END_MINGREEN': 282,\n",
       " 'VIRTUAL_ONNUT_ASSOCIATE': 537,\n",
       " 'VIRTUAL_FP1_END_MINGREEN': 65,\n",
       " 'VIRTUAL_FP1_END_MAXGREEN': 91,\n",
       " 'VIRTUAL_FP1_END_UNJAM_17': 0,\n",
       " 'VIRTUAL_FP1_END_UNJAM_13_14': 26,\n",
       " 'VIRTUAL_FP1_END_UNJAM_BANGNA': 38}"
      ]
     },
     "execution_count": 63,
     "metadata": {},
     "output_type": "execute_result"
    }
   ],
   "source": [
    "count"
   ]
  },
  {
   "cell_type": "code",
   "execution_count": null,
   "metadata": {},
   "outputs": [],
   "source": [
    "# baseline_df = pd.DataFrame(\n",
    "#     {'reward_onnut': throughput_onnut_memory,\n",
    "#      'reward_virtual':throughput_virtual_memory,\n",
    "#      'travel_time_onnut':travel_time_onnut_memory,\n",
    "#      'travel_time_virtual':travel_time_virtual_memory\n",
    "#     })\n",
    "# os.chdir('C:\\\\Users\\\\Asus\\\\OneDrive - Chulalongkorn University\\\\Desktop\\\\Senior Project\\\\Experiments-with-DQN-Onnut-27042022\\\\Experiments-with-DQN-Onnut-21042022\\\\multi-agent-dqn-main')\n",
    "# baseline_df.to_csv('baseline_output.csv')"
   ]
  },
  {
   "cell_type": "code",
   "execution_count": null,
   "metadata": {},
   "outputs": [
    {
     "name": "stderr",
     "output_type": "stream",
     "text": [
      "C:\\Users\\Asus\\AppData\\Local\\Temp\\ipykernel_728\\217621775.py:2: UserWarning: Call to deprecated function getCompleteRedYellowGreenDefinition, use getAllProgramLogics instead.\n",
      "  print(traci.trafficlight.getCompleteRedYellowGreenDefinition('cluster_1088409501_272206263_5136790697_70702637'))\n"
     ]
    },
    {
     "ename": "FatalTraCIError",
     "evalue": "Connection already closed.",
     "output_type": "error",
     "traceback": [
      "\u001b[1;31m---------------------------------------------------------------------------\u001b[0m",
      "\u001b[1;31mFatalTraCIError\u001b[0m                           Traceback (most recent call last)",
      "\u001b[1;32mc:\\Users\\Asus\\OneDrive - Chulalongkorn University\\Desktop\\Senior Project\\Experiments-with-DQN-Onnut-27042022\\Experiments-with-DQN-Onnut-21042022\\multi-agent-dqn-main\\Onnut_police_baseline.ipynb Cell 47'\u001b[0m in \u001b[0;36m<cell line: 2>\u001b[1;34m()\u001b[0m\n\u001b[0;32m      <a href='vscode-notebook-cell:/c%3A/Users/Asus/OneDrive%20-%20Chulalongkorn%20University/Desktop/Senior%20Project/Experiments-with-DQN-Onnut-27042022/Experiments-with-DQN-Onnut-21042022/multi-agent-dqn-main/Onnut_police_baseline.ipynb#ch0000046?line=0'>1</a>\u001b[0m \u001b[39m# Onnut intersection phase\u001b[39;00m\n\u001b[1;32m----> <a href='vscode-notebook-cell:/c%3A/Users/Asus/OneDrive%20-%20Chulalongkorn%20University/Desktop/Senior%20Project/Experiments-with-DQN-Onnut-27042022/Experiments-with-DQN-Onnut-21042022/multi-agent-dqn-main/Onnut_police_baseline.ipynb#ch0000046?line=1'>2</a>\u001b[0m \u001b[39mprint\u001b[39m(traci\u001b[39m.\u001b[39;49mtrafficlight\u001b[39m.\u001b[39;49mgetCompleteRedYellowGreenDefinition(\u001b[39m'\u001b[39;49m\u001b[39mcluster_1088409501_272206263_5136790697_70702637\u001b[39;49m\u001b[39m'\u001b[39;49m))\n\u001b[0;32m      <a href='vscode-notebook-cell:/c%3A/Users/Asus/OneDrive%20-%20Chulalongkorn%20University/Desktop/Senior%20Project/Experiments-with-DQN-Onnut-27042022/Experiments-with-DQN-Onnut-21042022/multi-agent-dqn-main/Onnut_police_baseline.ipynb#ch0000046?line=3'>4</a>\u001b[0m \u001b[39mprint\u001b[39m(traci\u001b[39m.\u001b[39mtrafficlight\u001b[39m.\u001b[39mgetRedYellowGreenState(\u001b[39m'\u001b[39m\u001b[39mcluster_1088409501_272206263_5136790697_70702637\u001b[39m\u001b[39m'\u001b[39m))\n",
      "File \u001b[1;32mC:\\Program Files (x86)\\Eclipse\\Sumo\\tools\\traci\\exceptions.py:40\u001b[0m, in \u001b[0;36mdeprecated.<locals>.Inner.<locals>.new_func\u001b[1;34m(*args, **kwargs)\u001b[0m\n\u001b[0;32m     <a href='file:///c%3A/Program%20Files%20%28x86%29/Eclipse/Sumo/tools/traci/exceptions.py?line=37'>38</a>\u001b[0m     msg \u001b[39m=\u001b[39m \u001b[39m\"\u001b[39m\u001b[39mCall to deprecated function \u001b[39m\u001b[39m%s\u001b[39;00m\u001b[39m, use \u001b[39m\u001b[39m%s\u001b[39;00m\u001b[39m instead.\u001b[39m\u001b[39m\"\u001b[39m \u001b[39m%\u001b[39m (old_name, func\u001b[39m.\u001b[39m\u001b[39m__name__\u001b[39m)\n\u001b[0;32m     <a href='file:///c%3A/Program%20Files%20%28x86%29/Eclipse/Sumo/tools/traci/exceptions.py?line=38'>39</a>\u001b[0m warnings\u001b[39m.\u001b[39mwarn(msg, stacklevel\u001b[39m=\u001b[39m\u001b[39m2\u001b[39m)\n\u001b[1;32m---> <a href='file:///c%3A/Program%20Files%20%28x86%29/Eclipse/Sumo/tools/traci/exceptions.py?line=39'>40</a>\u001b[0m \u001b[39mreturn\u001b[39;00m func(\u001b[39m*\u001b[39;49margs, \u001b[39m*\u001b[39;49m\u001b[39m*\u001b[39;49mkwargs)\n",
      "File \u001b[1;32mC:\\Program Files (x86)\\Eclipse\\Sumo\\tools\\traci\\_trafficlight.py:181\u001b[0m, in \u001b[0;36mTrafficLightDomain.getAllProgramLogics\u001b[1;34m(self, tlsID)\u001b[0m\n\u001b[0;32m    <a href='file:///c%3A/Program%20Files%20%28x86%29/Eclipse/Sumo/tools/traci/_trafficlight.py?line=174'>175</a>\u001b[0m \u001b[39mdef\u001b[39;00m \u001b[39mgetAllProgramLogics\u001b[39m(\u001b[39mself\u001b[39m, tlsID):\n\u001b[0;32m    <a href='file:///c%3A/Program%20Files%20%28x86%29/Eclipse/Sumo/tools/traci/_trafficlight.py?line=175'>176</a>\u001b[0m     \u001b[39m\"\"\"getAllProgramLogics(string) -> list(Logic)\u001b[39;00m\n\u001b[0;32m    <a href='file:///c%3A/Program%20Files%20%28x86%29/Eclipse/Sumo/tools/traci/_trafficlight.py?line=176'>177</a>\u001b[0m \n\u001b[0;32m    <a href='file:///c%3A/Program%20Files%20%28x86%29/Eclipse/Sumo/tools/traci/_trafficlight.py?line=177'>178</a>\u001b[0m \u001b[39m    Returns a list of Logic objects.\u001b[39;00m\n\u001b[0;32m    <a href='file:///c%3A/Program%20Files%20%28x86%29/Eclipse/Sumo/tools/traci/_trafficlight.py?line=178'>179</a>\u001b[0m \u001b[39m    Each Logic encodes a traffic light program for the given tlsID.\u001b[39;00m\n\u001b[0;32m    <a href='file:///c%3A/Program%20Files%20%28x86%29/Eclipse/Sumo/tools/traci/_trafficlight.py?line=179'>180</a>\u001b[0m \u001b[39m    \"\"\"\u001b[39;00m\n\u001b[1;32m--> <a href='file:///c%3A/Program%20Files%20%28x86%29/Eclipse/Sumo/tools/traci/_trafficlight.py?line=180'>181</a>\u001b[0m     \u001b[39mreturn\u001b[39;00m \u001b[39mself\u001b[39;49m\u001b[39m.\u001b[39;49m_getUniversal(tc\u001b[39m.\u001b[39;49mTL_COMPLETE_DEFINITION_RYG, tlsID)\n",
      "File \u001b[1;32mC:\\Program Files (x86)\\Eclipse\\Sumo\\tools\\traci\\domain.py:172\u001b[0m, in \u001b[0;36mDomain._getUniversal\u001b[1;34m(self, varID, objectID, format, *values)\u001b[0m\n\u001b[0;32m    <a href='file:///c%3A/Program%20Files%20%28x86%29/Eclipse/Sumo/tools/traci/domain.py?line=169'>170</a>\u001b[0m \u001b[39mif\u001b[39;00m \u001b[39mself\u001b[39m\u001b[39m.\u001b[39m_deprecatedFor:\n\u001b[0;32m    <a href='file:///c%3A/Program%20Files%20%28x86%29/Eclipse/Sumo/tools/traci/domain.py?line=170'>171</a>\u001b[0m     warnings\u001b[39m.\u001b[39mwarn(\u001b[39m\"\u001b[39m\u001b[39mThe domain \u001b[39m\u001b[39m%s\u001b[39;00m\u001b[39m is deprecated, use \u001b[39m\u001b[39m%s\u001b[39;00m\u001b[39m instead.\u001b[39m\u001b[39m\"\u001b[39m \u001b[39m%\u001b[39m (\u001b[39mself\u001b[39m\u001b[39m.\u001b[39m_name, \u001b[39mself\u001b[39m\u001b[39m.\u001b[39m_deprecatedFor))\n\u001b[1;32m--> <a href='file:///c%3A/Program%20Files%20%28x86%29/Eclipse/Sumo/tools/traci/domain.py?line=171'>172</a>\u001b[0m \u001b[39mreturn\u001b[39;00m _parse(\u001b[39mself\u001b[39m\u001b[39m.\u001b[39m_retValFunc, varID, \u001b[39mself\u001b[39;49m\u001b[39m.\u001b[39;49m_getCmd(varID, objectID, \u001b[39mformat\u001b[39;49m, \u001b[39m*\u001b[39;49mvalues))\n",
      "File \u001b[1;32mC:\\Program Files (x86)\\Eclipse\\Sumo\\tools\\traci\\domain.py:177\u001b[0m, in \u001b[0;36mDomain._getCmd\u001b[1;34m(self, varID, objID, format, *values)\u001b[0m\n\u001b[0;32m    <a href='file:///c%3A/Program%20Files%20%28x86%29/Eclipse/Sumo/tools/traci/domain.py?line=174'>175</a>\u001b[0m \u001b[39mif\u001b[39;00m \u001b[39mself\u001b[39m\u001b[39m.\u001b[39m_connection \u001b[39mis\u001b[39;00m \u001b[39mNone\u001b[39;00m:\n\u001b[0;32m    <a href='file:///c%3A/Program%20Files%20%28x86%29/Eclipse/Sumo/tools/traci/domain.py?line=175'>176</a>\u001b[0m     \u001b[39mraise\u001b[39;00m FatalTraCIError(\u001b[39m\"\u001b[39m\u001b[39mNot connected.\u001b[39m\u001b[39m\"\u001b[39m)\n\u001b[1;32m--> <a href='file:///c%3A/Program%20Files%20%28x86%29/Eclipse/Sumo/tools/traci/domain.py?line=176'>177</a>\u001b[0m r \u001b[39m=\u001b[39m \u001b[39mself\u001b[39;49m\u001b[39m.\u001b[39;49m_connection\u001b[39m.\u001b[39;49m_sendCmd(\u001b[39mself\u001b[39;49m\u001b[39m.\u001b[39;49m_cmdGetID, varID, objID, \u001b[39mformat\u001b[39;49m, \u001b[39m*\u001b[39;49mvalues)\n\u001b[0;32m    <a href='file:///c%3A/Program%20Files%20%28x86%29/Eclipse/Sumo/tools/traci/domain.py?line=177'>178</a>\u001b[0m r\u001b[39m.\u001b[39mreadLength()\n\u001b[0;32m    <a href='file:///c%3A/Program%20Files%20%28x86%29/Eclipse/Sumo/tools/traci/domain.py?line=178'>179</a>\u001b[0m response, retVarID \u001b[39m=\u001b[39m r\u001b[39m.\u001b[39mread(\u001b[39m\"\u001b[39m\u001b[39m!BB\u001b[39m\u001b[39m\"\u001b[39m)\n",
      "File \u001b[1;32mC:\\Program Files (x86)\\Eclipse\\Sumo\\tools\\traci\\connection.py:181\u001b[0m, in \u001b[0;36mConnection._sendCmd\u001b[1;34m(self, cmdID, varID, objID, format, *values)\u001b[0m\n\u001b[0;32m    <a href='file:///c%3A/Program%20Files%20%28x86%29/Eclipse/Sumo/tools/traci/connection.py?line=178'>179</a>\u001b[0m     \u001b[39mself\u001b[39m\u001b[39m.\u001b[39m_string \u001b[39m+\u001b[39m\u001b[39m=\u001b[39m struct\u001b[39m.\u001b[39mpack(\u001b[39m\"\u001b[39m\u001b[39m!i\u001b[39m\u001b[39m\"\u001b[39m, \u001b[39mlen\u001b[39m(objID)) \u001b[39m+\u001b[39m objID\u001b[39m.\u001b[39mencode(\u001b[39m\"\u001b[39m\u001b[39mlatin1\u001b[39m\u001b[39m\"\u001b[39m)\n\u001b[0;32m    <a href='file:///c%3A/Program%20Files%20%28x86%29/Eclipse/Sumo/tools/traci/connection.py?line=179'>180</a>\u001b[0m \u001b[39mself\u001b[39m\u001b[39m.\u001b[39m_string \u001b[39m+\u001b[39m\u001b[39m=\u001b[39m packed\n\u001b[1;32m--> <a href='file:///c%3A/Program%20Files%20%28x86%29/Eclipse/Sumo/tools/traci/connection.py?line=180'>181</a>\u001b[0m \u001b[39mreturn\u001b[39;00m \u001b[39mself\u001b[39;49m\u001b[39m.\u001b[39;49m_sendExact()\n",
      "File \u001b[1;32mC:\\Program Files (x86)\\Eclipse\\Sumo\\tools\\traci\\connection.py:83\u001b[0m, in \u001b[0;36mConnection._sendExact\u001b[1;34m(self)\u001b[0m\n\u001b[0;32m     <a href='file:///c%3A/Program%20Files%20%28x86%29/Eclipse/Sumo/tools/traci/connection.py?line=80'>81</a>\u001b[0m \u001b[39mdef\u001b[39;00m \u001b[39m_sendExact\u001b[39m(\u001b[39mself\u001b[39m):\n\u001b[0;32m     <a href='file:///c%3A/Program%20Files%20%28x86%29/Eclipse/Sumo/tools/traci/connection.py?line=81'>82</a>\u001b[0m     \u001b[39mif\u001b[39;00m \u001b[39mself\u001b[39m\u001b[39m.\u001b[39m_socket \u001b[39mis\u001b[39;00m \u001b[39mNone\u001b[39;00m:\n\u001b[1;32m---> <a href='file:///c%3A/Program%20Files%20%28x86%29/Eclipse/Sumo/tools/traci/connection.py?line=82'>83</a>\u001b[0m         \u001b[39mraise\u001b[39;00m FatalTraCIError(\u001b[39m\"\u001b[39m\u001b[39mConnection already closed.\u001b[39m\u001b[39m\"\u001b[39m)\n\u001b[0;32m     <a href='file:///c%3A/Program%20Files%20%28x86%29/Eclipse/Sumo/tools/traci/connection.py?line=83'>84</a>\u001b[0m     length \u001b[39m=\u001b[39m struct\u001b[39m.\u001b[39mpack(\u001b[39m\"\u001b[39m\u001b[39m!i\u001b[39m\u001b[39m\"\u001b[39m, \u001b[39mlen\u001b[39m(\u001b[39mself\u001b[39m\u001b[39m.\u001b[39m_string) \u001b[39m+\u001b[39m \u001b[39m4\u001b[39m)\n\u001b[0;32m     <a href='file:///c%3A/Program%20Files%20%28x86%29/Eclipse/Sumo/tools/traci/connection.py?line=84'>85</a>\u001b[0m     \u001b[39m# print(\"python_sendExact: '%s'\" % ' '.join(map(lambda x : \"%X\" % ord(x), self._string)))\u001b[39;00m\n",
      "\u001b[1;31mFatalTraCIError\u001b[0m: Connection already closed."
     ]
    }
   ],
   "source": [
    "# # Onnut intersection phase\n",
    "# print(traci.trafficlight.getCompleteRedYellowGreenDefinition('cluster_1088409501_272206263_5136790697_70702637'))\n",
    "\n",
    "# print(traci.trafficlight.getRedYellowGreenState('cluster_1088409501_272206263_5136790697_70702637'))\n"
   ]
  },
  {
   "cell_type": "code",
   "execution_count": null,
   "metadata": {},
   "outputs": [
    {
     "name": "stdout",
     "output_type": "stream",
     "text": [
      "(Logic(programID='0', type=0, currentPhaseIndex=2, phases=(Phase(duration=135.0, state='rrrgGGGGGrrGrrr', minDur=135.0, maxDur=135.0, next=()), Phase(duration=7.5, state='rrGGrrGGGrrGrrr', minDur=7.5, maxDur=7.5, next=()), Phase(duration=7.5, state='rrrgrrrGGGrGrrr', minDur=7.5, maxDur=7.5, next=())), subParameter={}),)\n",
      "rrrgrrrGGGrGrrr\n"
     ]
    },
    {
     "name": "stderr",
     "output_type": "stream",
     "text": [
      "C:\\Users\\Asus\\AppData\\Local\\Temp/ipykernel_3956/2742542155.py:2: UserWarning: Call to deprecated function getCompleteRedYellowGreenDefinition, use getAllProgramLogics instead.\n",
      "  print(traci.trafficlight.getCompleteRedYellowGreenDefinition('gneJ42'))\n"
     ]
    }
   ],
   "source": [
    "# # Virtual intersection phase\n",
    "# print(traci.trafficlight.getCompleteRedYellowGreenDefinition('gneJ42'))\n",
    "\n",
    "# print(traci.trafficlight.getRedYellowGreenState('gneJ42'))"
   ]
  }
 ],
 "metadata": {
  "interpreter": {
   "hash": "4573d6145d2633e07644d8d56b5e8dbfa1a648d795d6709c290371a724896093"
  },
  "kernelspec": {
   "display_name": "Python 3.8.13 ('SeniorProject')",
   "language": "python",
   "name": "python3"
  },
  "language_info": {
   "codemirror_mode": {
    "name": "ipython",
    "version": 3
   },
   "file_extension": ".py",
   "mimetype": "text/x-python",
   "name": "python",
   "nbconvert_exporter": "python",
   "pygments_lexer": "ipython3",
   "version": "3.8.13"
  },
  "orig_nbformat": 4
 },
 "nbformat": 4,
 "nbformat_minor": 2
}
